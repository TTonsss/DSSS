{
 "cells": [
  {
   "cell_type": "code",
   "execution_count": 3,
   "metadata": {},
   "outputs": [],
   "source": [
    "import numpy as np\n",
    "import matplotlib.pyplot as plt\n",
    "import pandas as pd\n",
    "from sklearn.linear_model import LinearRegression\n",
    "import statsmodels.api as sm"
   ]
  },
  {
   "cell_type": "code",
   "execution_count": 64,
   "metadata": {},
   "outputs": [],
   "source": [
    "data = pd.read_csv('https://raw.githubusercontent.com/TTonsss/DSSS/main/data.csv')"
   ]
  },
  {
   "cell_type": "code",
   "execution_count": 65,
   "metadata": {},
   "outputs": [
    {
     "name": "stdout",
     "output_type": "stream",
     "text": [
      "<class 'pandas.core.frame.DataFrame'>\n",
      "RangeIndex: 108 entries, 0 to 107\n",
      "Data columns (total 9 columns):\n",
      " #   Column             Non-Null Count  Dtype  \n",
      "---  ------             --------------  -----  \n",
      " 0   Year               108 non-null    object \n",
      " 1   House_price        108 non-null    int64  \n",
      " 2   Population         108 non-null    int64  \n",
      " 3   dwelling           108 non-null    int64  \n",
      " 4   GDP(m)             108 non-null    int64  \n",
      " 5   dwelling stock     108 non-null    int64  \n",
      " 6   mortgage_rate      108 non-null    float64\n",
      " 7   unemployment_rate  108 non-null    float64\n",
      " 8   Real_income        108 non-null    int64  \n",
      "dtypes: float64(2), int64(6), object(1)\n",
      "memory usage: 7.7+ KB\n"
     ]
    }
   ],
   "source": [
    "data.info()"
   ]
  },
  {
   "cell_type": "code",
   "execution_count": 66,
   "metadata": {},
   "outputs": [
    {
     "data": {
      "text/html": [
       "<div>\n",
       "<style scoped>\n",
       "    .dataframe tbody tr th:only-of-type {\n",
       "        vertical-align: middle;\n",
       "    }\n",
       "\n",
       "    .dataframe tbody tr th {\n",
       "        vertical-align: top;\n",
       "    }\n",
       "\n",
       "    .dataframe thead th {\n",
       "        text-align: right;\n",
       "    }\n",
       "</style>\n",
       "<table border=\"1\" class=\"dataframe\">\n",
       "  <thead>\n",
       "    <tr style=\"text-align: right;\">\n",
       "      <th></th>\n",
       "      <th>Year</th>\n",
       "      <th>House_price</th>\n",
       "      <th>Population</th>\n",
       "      <th>dwelling</th>\n",
       "      <th>GDP(m)</th>\n",
       "      <th>dwelling stock</th>\n",
       "      <th>mortgage_rate</th>\n",
       "      <th>unemployment_rate</th>\n",
       "      <th>Real_income</th>\n",
       "    </tr>\n",
       "  </thead>\n",
       "  <tbody>\n",
       "    <tr>\n",
       "      <th>0</th>\n",
       "      <td>Q1 1994</td>\n",
       "      <td>51327</td>\n",
       "      <td>57862100</td>\n",
       "      <td>20139</td>\n",
       "      <td>317468</td>\n",
       "      <td>3666190</td>\n",
       "      <td>5.13</td>\n",
       "      <td>9.9</td>\n",
       "      <td>208676</td>\n",
       "    </tr>\n",
       "    <tr>\n",
       "      <th>1</th>\n",
       "      <td>Q2 1994</td>\n",
       "      <td>51362</td>\n",
       "      <td>57862100</td>\n",
       "      <td>20139</td>\n",
       "      <td>321166</td>\n",
       "      <td>3666190</td>\n",
       "      <td>5.33</td>\n",
       "      <td>9.7</td>\n",
       "      <td>208365</td>\n",
       "    </tr>\n",
       "    <tr>\n",
       "      <th>2</th>\n",
       "      <td>Q3 1994</td>\n",
       "      <td>51731</td>\n",
       "      <td>57862100</td>\n",
       "      <td>20139</td>\n",
       "      <td>324811</td>\n",
       "      <td>3666190</td>\n",
       "      <td>5.63</td>\n",
       "      <td>9.4</td>\n",
       "      <td>212502</td>\n",
       "    </tr>\n",
       "    <tr>\n",
       "      <th>3</th>\n",
       "      <td>Q4 1994</td>\n",
       "      <td>52114</td>\n",
       "      <td>57862100</td>\n",
       "      <td>20139</td>\n",
       "      <td>326734</td>\n",
       "      <td>3666190</td>\n",
       "      <td>6.13</td>\n",
       "      <td>9.0</td>\n",
       "      <td>211454</td>\n",
       "    </tr>\n",
       "    <tr>\n",
       "      <th>4</th>\n",
       "      <td>Q1 1995</td>\n",
       "      <td>51084</td>\n",
       "      <td>58024800</td>\n",
       "      <td>20305</td>\n",
       "      <td>328056</td>\n",
       "      <td>3564590</td>\n",
       "      <td>6.63</td>\n",
       "      <td>8.9</td>\n",
       "      <td>215037</td>\n",
       "    </tr>\n",
       "  </tbody>\n",
       "</table>\n",
       "</div>"
      ],
      "text/plain": [
       "      Year  House_price  Population  dwelling  GDP(m)  dwelling stock  \\\n",
       "0  Q1 1994        51327    57862100     20139  317468         3666190   \n",
       "1  Q2 1994        51362    57862100     20139  321166         3666190   \n",
       "2  Q3 1994        51731    57862100     20139  324811         3666190   \n",
       "3  Q4 1994        52114    57862100     20139  326734         3666190   \n",
       "4  Q1 1995        51084    58024800     20305  328056         3564590   \n",
       "\n",
       "   mortgage_rate  unemployment_rate  Real_income  \n",
       "0           5.13                9.9       208676  \n",
       "1           5.33                9.7       208365  \n",
       "2           5.63                9.4       212502  \n",
       "3           6.13                9.0       211454  \n",
       "4           6.63                8.9       215037  "
      ]
     },
     "execution_count": 66,
     "metadata": {},
     "output_type": "execute_result"
    }
   ],
   "source": [
    "data.head()"
   ]
  },
  {
   "cell_type": "code",
   "execution_count": 67,
   "metadata": {},
   "outputs": [
    {
     "data": {
      "text/html": [
       "<div>\n",
       "<style scoped>\n",
       "    .dataframe tbody tr th:only-of-type {\n",
       "        vertical-align: middle;\n",
       "    }\n",
       "\n",
       "    .dataframe tbody tr th {\n",
       "        vertical-align: top;\n",
       "    }\n",
       "\n",
       "    .dataframe thead th {\n",
       "        text-align: right;\n",
       "    }\n",
       "</style>\n",
       "<table border=\"1\" class=\"dataframe\">\n",
       "  <thead>\n",
       "    <tr style=\"text-align: right;\">\n",
       "      <th></th>\n",
       "      <th>Year</th>\n",
       "      <th>price</th>\n",
       "      <th>population</th>\n",
       "      <th>dwelling</th>\n",
       "      <th>GDP</th>\n",
       "      <th>dwelling_stock</th>\n",
       "      <th>mortgage_rate</th>\n",
       "      <th>unemployment_rate</th>\n",
       "      <th>Real_income</th>\n",
       "    </tr>\n",
       "  </thead>\n",
       "  <tbody>\n",
       "    <tr>\n",
       "      <th>103</th>\n",
       "      <td>Q4 2019</td>\n",
       "      <td>215925</td>\n",
       "      <td>66796800</td>\n",
       "      <td>24414</td>\n",
       "      <td>544733</td>\n",
       "      <td>1587164</td>\n",
       "      <td>4.27</td>\n",
       "      <td>3.8</td>\n",
       "      <td>370990</td>\n",
       "    </tr>\n",
       "    <tr>\n",
       "      <th>104</th>\n",
       "      <td>Q1 2020</td>\n",
       "      <td>217911</td>\n",
       "      <td>67886011</td>\n",
       "      <td>15950</td>\n",
       "      <td>529223</td>\n",
       "      <td>1583068</td>\n",
       "      <td>4.10</td>\n",
       "      <td>4.0</td>\n",
       "      <td>365330</td>\n",
       "    </tr>\n",
       "    <tr>\n",
       "      <th>105</th>\n",
       "      <td>Q2 2020</td>\n",
       "      <td>220133</td>\n",
       "      <td>67886011</td>\n",
       "      <td>15950</td>\n",
       "      <td>426197</td>\n",
       "      <td>1583068</td>\n",
       "      <td>3.65</td>\n",
       "      <td>4.1</td>\n",
       "      <td>353774</td>\n",
       "    </tr>\n",
       "    <tr>\n",
       "      <th>106</th>\n",
       "      <td>Q3 2020</td>\n",
       "      <td>224337</td>\n",
       "      <td>67886011</td>\n",
       "      <td>15950</td>\n",
       "      <td>498429</td>\n",
       "      <td>1583068</td>\n",
       "      <td>3.65</td>\n",
       "      <td>4.8</td>\n",
       "      <td>367916</td>\n",
       "    </tr>\n",
       "    <tr>\n",
       "      <th>107</th>\n",
       "      <td>Q4 2020</td>\n",
       "      <td>229819</td>\n",
       "      <td>67886011</td>\n",
       "      <td>15950</td>\n",
       "      <td>504742</td>\n",
       "      <td>1583068</td>\n",
       "      <td>3.62</td>\n",
       "      <td>5.1</td>\n",
       "      <td>370173</td>\n",
       "    </tr>\n",
       "  </tbody>\n",
       "</table>\n",
       "</div>"
      ],
      "text/plain": [
       "        Year   price  population  dwelling     GDP  dwelling_stock  \\\n",
       "103  Q4 2019  215925    66796800     24414  544733         1587164   \n",
       "104  Q1 2020  217911    67886011     15950  529223         1583068   \n",
       "105  Q2 2020  220133    67886011     15950  426197         1583068   \n",
       "106  Q3 2020  224337    67886011     15950  498429         1583068   \n",
       "107  Q4 2020  229819    67886011     15950  504742         1583068   \n",
       "\n",
       "     mortgage_rate  unemployment_rate  Real_income  \n",
       "103           4.27                3.8       370990  \n",
       "104           4.10                4.0       365330  \n",
       "105           3.65                4.1       353774  \n",
       "106           3.65                4.8       367916  \n",
       "107           3.62                5.1       370173  "
      ]
     },
     "execution_count": 67,
     "metadata": {},
     "output_type": "execute_result"
    }
   ],
   "source": [
    "data = data.rename(columns={'House_price': 'price','Population': 'population', 'GDP(m)': 'GDP', 'dwelling stock': 'dwelling_stock'})\n",
    "data.tail()"
   ]
  },
  {
   "cell_type": "code",
   "execution_count": 68,
   "metadata": {},
   "outputs": [
    {
     "data": {
      "text/plain": [
       "Text(0.5, 0, 'House price')"
      ]
     },
     "execution_count": 68,
     "metadata": {},
     "output_type": "execute_result"
    },
    {
     "data": {
      "image/png": "[encoded data removed]",
      "text/plain": [
       "<Figure size 432x288 with 1 Axes>"
      ]
     },
     "metadata": {
      "needs_background": "light"
     },
     "output_type": "display_data"
    }
   ],
   "source": [
    "x=data['Year']\n",
    "y0=data['price']\n",
    "y1=data['population']\n",
    "y2=data['dwelling']\n",
    "y3=data['GDP']\n",
    "y4=data['dwelling_stock']\n",
    "y5=data['mortgage_rate']\n",
    "y6=data['unemployment_rate']\n",
    "y7=data['Real_income']\n",
    "\n",
    "\n",
    "\n",
    "plt.plot(x, y7,label='price')\n",
    "\n",
    "plt.legend()\n",
    "plt.xlabel('House price')\n"
   ]
  },
  {
   "cell_type": "code",
   "execution_count": 69,
   "metadata": {},
   "outputs": [
    {
     "name": "stdout",
     "output_type": "stream",
     "text": [
      "<class 'pandas.core.frame.DataFrame'>\n",
      "RangeIndex: 108 entries, 0 to 107\n",
      "Data columns (total 9 columns):\n",
      " #   Column             Non-Null Count  Dtype  \n",
      "---  ------             --------------  -----  \n",
      " 0   Year               108 non-null    object \n",
      " 1   price              108 non-null    int64  \n",
      " 2   population         108 non-null    int64  \n",
      " 3   dwelling           108 non-null    int64  \n",
      " 4   GDP                108 non-null    int64  \n",
      " 5   dwelling_stock     108 non-null    int64  \n",
      " 6   mortgage_rate      108 non-null    float64\n",
      " 7   unemployment_rate  108 non-null    float64\n",
      " 8   Real_income        108 non-null    int64  \n",
      "dtypes: float64(2), int64(6), object(1)\n",
      "memory usage: 7.7+ KB\n"
     ]
    }
   ],
   "source": [
    "data.info()"
   ]
  },
  {
   "cell_type": "code",
   "execution_count": 70,
   "metadata": {},
   "outputs": [
    {
     "data": {
      "text/html": [
       "<div>\n",
       "<style scoped>\n",
       "    .dataframe tbody tr th:only-of-type {\n",
       "        vertical-align: middle;\n",
       "    }\n",
       "\n",
       "    .dataframe tbody tr th {\n",
       "        vertical-align: top;\n",
       "    }\n",
       "\n",
       "    .dataframe thead th {\n",
       "        text-align: right;\n",
       "    }\n",
       "</style>\n",
       "<table border=\"1\" class=\"dataframe\">\n",
       "  <thead>\n",
       "    <tr style=\"text-align: right;\">\n",
       "      <th></th>\n",
       "      <th>Total</th>\n",
       "      <th>Percent</th>\n",
       "    </tr>\n",
       "  </thead>\n",
       "  <tbody>\n",
       "    <tr>\n",
       "      <th>Year</th>\n",
       "      <td>0</td>\n",
       "      <td>0.0</td>\n",
       "    </tr>\n",
       "    <tr>\n",
       "      <th>price</th>\n",
       "      <td>0</td>\n",
       "      <td>0.0</td>\n",
       "    </tr>\n",
       "    <tr>\n",
       "      <th>population</th>\n",
       "      <td>0</td>\n",
       "      <td>0.0</td>\n",
       "    </tr>\n",
       "    <tr>\n",
       "      <th>dwelling</th>\n",
       "      <td>0</td>\n",
       "      <td>0.0</td>\n",
       "    </tr>\n",
       "    <tr>\n",
       "      <th>GDP</th>\n",
       "      <td>0</td>\n",
       "      <td>0.0</td>\n",
       "    </tr>\n",
       "    <tr>\n",
       "      <th>dwelling_stock</th>\n",
       "      <td>0</td>\n",
       "      <td>0.0</td>\n",
       "    </tr>\n",
       "    <tr>\n",
       "      <th>mortgage_rate</th>\n",
       "      <td>0</td>\n",
       "      <td>0.0</td>\n",
       "    </tr>\n",
       "    <tr>\n",
       "      <th>unemployment_rate</th>\n",
       "      <td>0</td>\n",
       "      <td>0.0</td>\n",
       "    </tr>\n",
       "    <tr>\n",
       "      <th>Real_income</th>\n",
       "      <td>0</td>\n",
       "      <td>0.0</td>\n",
       "    </tr>\n",
       "  </tbody>\n",
       "</table>\n",
       "</div>"
      ],
      "text/plain": [
       "                   Total  Percent\n",
       "Year                   0      0.0\n",
       "price                  0      0.0\n",
       "population             0      0.0\n",
       "dwelling               0      0.0\n",
       "GDP                    0      0.0\n",
       "dwelling_stock         0      0.0\n",
       "mortgage_rate          0      0.0\n",
       "unemployment_rate      0      0.0\n",
       "Real_income            0      0.0"
      ]
     },
     "execution_count": 70,
     "metadata": {},
     "output_type": "execute_result"
    }
   ],
   "source": [
    "total = data.isnull().sum().sort_values(ascending=False)\n",
    "percent = (data.isnull().sum()/data.isnull().count()).sort_values(ascending=False)\n",
    "missing_data = pd.concat([total, percent], axis=1, keys=['Total', 'Percent'])\n",
    "missing_data.head(35)"
   ]
  },
  {
   "cell_type": "code",
   "execution_count": 71,
   "metadata": {},
   "outputs": [
    {
     "data": {
      "text/plain": [
       "0"
      ]
     },
     "execution_count": 71,
     "metadata": {},
     "output_type": "execute_result"
    }
   ],
   "source": [
    "data.isnull().sum().max()"
   ]
  },
  {
   "cell_type": "markdown",
   "metadata": {},
   "source": [
    "### Correlation"
   ]
  },
  {
   "cell_type": "code",
   "execution_count": 107,
   "metadata": {},
   "outputs": [
    {
     "data": {
      "text/plain": [
       "Text(0.5, 1.0, 'Correlation Matrix')"
      ]
     },
     "execution_count": 107,
     "metadata": {},
     "output_type": "execute_result"
    },
    {
     "data": {
      "image/png": "[encoded data removed]",
      "text/plain": [
       "<Figure size 1368x1080 with 2 Axes>"
      ]
     },
     "metadata": {
      "needs_background": "light"
     },
     "output_type": "display_data"
    }
   ],
   "source": [
    "data = data.drop(['Year'],axis = 1)\n",
    "df = data\n",
    "plt.rcParams[\"axes.grid\"] = False\n",
    "f = plt.figure(figsize=(19, 15))\n",
    "plt.matshow(df.corr(), fignum=f.number)\n",
    "plt.xticks(range(df.shape[1]), df.columns, fontsize=14, rotation=45)\n",
    "plt.yticks(range(df.shape[1]), df.columns, fontsize=14)\n",
    "cb = plt.colorbar()\n",
    "cb.ax.tick_params(labelsize=14)\n",
    "plt.title('Correlation Matrix', fontsize=16)"
   ]
  },
  {
   "cell_type": "markdown",
   "metadata": {},
   "source": [
    "### Stepwise regression"
   ]
  },
  {
   "cell_type": "code",
   "execution_count": 111,
   "metadata": {},
   "outputs": [],
   "source": [
    "import statsmodels.api as sm\n",
    "import statsmodels.formula.api as smf"
   ]
  },
  {
   "cell_type": "code",
   "execution_count": 112,
   "metadata": {},
   "outputs": [],
   "source": [
    "def stepwise_selection(X, y, \n",
    "                           initial_list=[], \n",
    "                           threshold_in=0.01, \n",
    "                           threshold_out = 0.05, \n",
    "                           verbose=True):\n",
    "        \"\"\" Perform a forward-backward feature selection \n",
    "        based on p-value from statsmodels.api.OLS\n",
    "        Arguments:\n",
    "            X - pandas.DataFrame with candidate features\n",
    "            y - list-like with the target\n",
    "            initial_list - list of features to start with (column names of X)\n",
    "            threshold_in - include a feature if its p-value < threshold_in\n",
    "            threshold_out - exclude a feature if its p-value > threshold_out\n",
    "            verbose - whether to print the sequence of inclusions and exclusions\n",
    "        Returns: list of selected features \n",
    "        Always set threshold_in < threshold_out to avoid infinite looping.\n",
    "        See https://en.wikipedia.org/wiki/Stepwise_regression for the details\n",
    "        \"\"\"\n",
    "        included = list(initial_list)\n",
    "        while True:\n",
    "            changed=False\n",
    "            # forward step\n",
    "            excluded = list(set(X.columns)-set(included))\n",
    "            new_pval = pd.Series(index=excluded)\n",
    "            for new_column in excluded:\n",
    "                model = sm.OLS(y, sm.add_constant(pd.DataFrame(X[included+[new_column]]))).fit()\n",
    "                new_pval[new_column] = model.pvalues[new_column]\n",
    "            best_pval = new_pval.min()\n",
    "            if best_pval < threshold_in:\n",
    "                best_feature = new_pval.idxmin()\n",
    "                included.append(best_feature)\n",
    "                changed=True\n",
    "                if verbose:\n",
    "                    print('Add  {:30} with p-value {:.6}'.format(best_feature, best_pval))\n",
    "\n",
    "            # backward step\n",
    "            model = sm.OLS(y, sm.add_constant(pd.DataFrame(X[included]))).fit()\n",
    "            # use all coefs except intercept\n",
    "            pvalues = model.pvalues.iloc[1:]\n",
    "            worst_pval = pvalues.max() # null if pvalues is empty\n",
    "            if worst_pval > threshold_out:\n",
    "                changed=True\n",
    "                worst_feature = pvalues.idxmax()\n",
    "                included.remove(worst_feature)\n",
    "                if verbose:\n",
    "                    print('Drop {:30} with p-value {:.6}'.format(worst_feature, worst_pval))\n",
    "            if not changed:\n",
    "                break\n",
    "        return included"
   ]
  },
  {
   "cell_type": "code",
   "execution_count": 113,
   "metadata": {},
   "outputs": [],
   "source": [
    "predictors_data = data.drop(columns=['price'], axis=1)\n",
    "response_data = data['price']"
   ]
  },
  {
   "cell_type": "code",
   "execution_count": 130,
   "metadata": {},
   "outputs": [
    {
     "name": "stdout",
     "output_type": "stream",
     "text": [
      "Add  Real_income                    with p-value 7.91535e-78\n",
      "Add  dwelling_stock                 with p-value 5.53285e-06\n",
      "Add  mortgage_rate                  with p-value 0.000182488\n",
      "Add  dwelling                       with p-value 0.012535\n",
      "The predictors that are selected by stepwise regression are:\n",
      "['Real_income', 'dwelling_stock', 'mortgage_rate', 'dwelling']\n"
     ]
    },
    {
     "name": "stderr",
     "output_type": "stream",
     "text": [
      "<ipython-input-112-eca5eaf6445f>:24: DeprecationWarning: The default dtype for empty Series will be 'object' instead of 'float64' in a future version. Specify a dtype explicitly to silence this warning.\n",
      "  new_pval = pd.Series(index=excluded)\n",
      "<ipython-input-112-eca5eaf6445f>:24: DeprecationWarning: The default dtype for empty Series will be 'object' instead of 'float64' in a future version. Specify a dtype explicitly to silence this warning.\n",
      "  new_pval = pd.Series(index=excluded)\n",
      "<ipython-input-112-eca5eaf6445f>:24: DeprecationWarning: The default dtype for empty Series will be 'object' instead of 'float64' in a future version. Specify a dtype explicitly to silence this warning.\n",
      "  new_pval = pd.Series(index=excluded)\n",
      "<ipython-input-112-eca5eaf6445f>:24: DeprecationWarning: The default dtype for empty Series will be 'object' instead of 'float64' in a future version. Specify a dtype explicitly to silence this warning.\n",
      "  new_pval = pd.Series(index=excluded)\n",
      "<ipython-input-112-eca5eaf6445f>:24: DeprecationWarning: The default dtype for empty Series will be 'object' instead of 'float64' in a future version. Specify a dtype explicitly to silence this warning.\n",
      "  new_pval = pd.Series(index=excluded)\n"
     ]
    }
   ],
   "source": [
    "list_predictor_select_stepwise = stepwise_selection(X=predictors_data, y=response_data,initial_list=[], \n",
    "                           threshold_in=0.03, \n",
    "                           threshold_out = 0.05, \n",
    "                           verbose=True)\n",
    "print(\"The predictors that are selected by stepwise regression are:\")\n",
    "print(list_predictor_select_stepwise)"
   ]
  },
  {
   "cell_type": "code",
   "execution_count": 131,
   "metadata": {},
   "outputs": [
    {
     "name": "stdout",
     "output_type": "stream",
     "text": [
      "                            OLS Regression Results                            \n",
      "==============================================================================\n",
      "Dep. Variable:                  price   R-squared:                       0.975\n",
      "Model:                            OLS   Adj. R-squared:                  0.974\n",
      "Method:                 Least Squares   F-statistic:                     1011.\n",
      "Date:                Tue, 20 Apr 2021   Prob (F-statistic):           1.14e-81\n",
      "Time:                        07:37:36   Log-Likelihood:                -1135.5\n",
      "No. Observations:                 108   AIC:                             2281.\n",
      "Df Residuals:                     103   BIC:                             2294.\n",
      "Df Model:                           4                                         \n",
      "Covariance Type:            nonrobust                                         \n",
      "==================================================================================\n",
      "                     coef    std err          t      P>|t|      [0.025      0.975]\n",
      "----------------------------------------------------------------------------------\n",
      "Intercept      -1.895e+04   3.86e+04     -0.491      0.625   -9.55e+04    5.76e+04\n",
      "Real_income        0.8235      0.073     11.209      0.000       0.678       0.969\n",
      "dwelling_stock    -0.0301      0.005     -6.019      0.000      -0.040      -0.020\n",
      "mortgage_rate   3872.8773    946.139      4.093      0.000    1996.434    5749.321\n",
      "dwelling          -1.5758      0.620     -2.541      0.013      -2.806      -0.346\n",
      "==============================================================================\n",
      "Omnibus:                        2.673   Durbin-Watson:                   0.185\n",
      "Prob(Omnibus):                  0.263   Jarque-Bera (JB):                2.389\n",
      "Skew:                          -0.364   Prob(JB):                        0.303\n",
      "Kurtosis:                       3.018   Cond. No.                     1.07e+08\n",
      "==============================================================================\n",
      "\n",
      "Notes:\n",
      "[1] Standard Errors assume that the covariance matrix of the errors is correctly specified.\n",
      "[2] The condition number is large, 1.07e+08. This might indicate that there are\n",
      "strong multicollinearity or other numerical problems.\n"
     ]
    }
   ],
   "source": [
    "multi_regression_model_1 = smf.ols(formula='price ~ Real_income+dwelling_stock+mortgage_rate+dwelling',data=data).fit()\n",
    "print(multi_regression_model_1.summary())"
   ]
  },
  {
   "cell_type": "markdown",
   "metadata": {},
   "source": [
    "### VIF"
   ]
  },
  {
   "cell_type": "code",
   "execution_count": 136,
   "metadata": {},
   "outputs": [],
   "source": [
    "from statsmodels.stats.outliers_influence import variance_inflation_factor \n",
    "from statsmodels.tools.tools import add_constant\n",
    "\n",
    "def calculate_vif_(df, thresh=40):\n",
    "    '''\n",
    "    Calculates VIF each feature in a pandas dataframe\n",
    "    A constant must be added to variance_inflation_factor or the results will be incorrect\n",
    "\n",
    "    :param df: the pandas dataframe containing only the predictor features, not the response variable\n",
    "    :param thresh: the max VIF value before the feature is removed from the dataframe\n",
    "    :return: dataframe with features removed\n",
    "    '''\n",
    "    const = add_constant(df)\n",
    "    cols = const.columns\n",
    "    variables = np.arange(const.shape[1])\n",
    "    vif_df = pd.Series([variance_inflation_factor(const.values, i) \n",
    "               for i in range(const.shape[1])], \n",
    "              index=const.columns).to_frame()\n",
    "\n",
    "    vif_df = vif_df.sort_values(by=0, ascending=False).rename(columns={0: 'VIF'})\n",
    "    vif_df = vif_df.drop('const')\n",
    "    vif_df = vif_df[vif_df['VIF'] > thresh]\n",
    "\n",
    "    print ('Features above VIF threshold:\\n')\n",
    "    print (vif_df[vif_df['VIF'] > thresh])\n",
    "\n",
    "    col_to_drop = list(vif_df.index)\n",
    "\n",
    "    for i in col_to_drop:\n",
    "        print ('Dropping: {}'.format(i))\n",
    "        df = df.drop(columns=i)\n",
    "\n",
    "    return df"
   ]
  },
  {
   "cell_type": "code",
   "execution_count": 137,
   "metadata": {},
   "outputs": [
    {
     "name": "stdout",
     "output_type": "stream",
     "text": [
      "Features above VIF threshold:\n",
      "\n",
      "                    VIF\n",
      "Real_income  115.860356\n",
      "GDP           66.703567\n",
      "Dropping: Real_income\n",
      "Dropping: GDP\n",
      "The columns remaining after VIF selection are:\n",
      "Index(['population', 'dwelling', 'dwelling_stock', 'mortgage_rate',\n",
      "       'unemployment_rate'],\n",
      "      dtype='object')\n"
     ]
    }
   ],
   "source": [
    "df_predictors_select_VIF = calculate_vif_(predictors_data)\n",
    "print(\"The columns remaining after VIF selection are:\")\n",
    "print(df_predictors_select_VIF.columns)\n"
   ]
  },
  {
   "cell_type": "code",
   "execution_count": 139,
   "metadata": {},
   "outputs": [
    {
     "data": {
      "text/plain": [
       "LinearRegression()"
      ]
     },
     "execution_count": 139,
     "metadata": {},
     "output_type": "execute_result"
    }
   ],
   "source": [
    "from sklearn.linear_model import LinearRegression\n",
    "lr = LinearRegression()\n",
    "lr.fit(X=df_predictors_select_VIF, y=response_data)"
   ]
  },
  {
   "cell_type": "code",
   "execution_count": 152,
   "metadata": {},
   "outputs": [
    {
     "name": "stdout",
     "output_type": "stream",
     "text": [
      "Interception: -63249.4908202003\n",
      "\n",
      "                 var         coef\n",
      "0         population     0.005831\n",
      "1           dwelling    -1.109929\n",
      "2     dwelling_stock    -0.056669\n",
      "3      mortgage_rate  3843.024242\n",
      "4  unemployment_rate -3538.095479\n",
      "\n",
      "Linear regression score: 0.972831987096952\n"
     ]
    }
   ],
   "source": [
    "print(\"Interception: \" + str(lr.intercept_) + \"\\n\")\n",
    "\n",
    "df_coef_lr_VIF = pd.DataFrame({\"var\": df_predictors_select_VIF.columns.values, \"coef\": lr.coef_})\n",
    "print(df_coef_lr_VIF)\n",
    "\n",
    "print(\"\\nLinear regression score: \" + str(lr.score(df_predictors_select_VIF,response_data)))"
   ]
  },
  {
   "cell_type": "code",
   "execution_count": 153,
   "metadata": {},
   "outputs": [
    {
     "data": {
      "text/html": [
       "<table class=\"simpletable\">\n",
       "<caption>OLS Regression Results</caption>\n",
       "<tr>\n",
       "  <th>Dep. Variable:</th>          <td>price</td>      <th>  R-squared:         </th> <td>   0.973</td>\n",
       "</tr>\n",
       "<tr>\n",
       "  <th>Model:</th>                   <td>OLS</td>       <th>  Adj. R-squared:    </th> <td>   0.972</td>\n",
       "</tr>\n",
       "<tr>\n",
       "  <th>Method:</th>             <td>Least Squares</td>  <th>  F-statistic:       </th> <td>   730.5</td>\n",
       "</tr>\n",
       "<tr>\n",
       "  <th>Date:</th>             <td>Tue, 20 Apr 2021</td> <th>  Prob (F-statistic):</th> <td>3.74e-78</td>\n",
       "</tr>\n",
       "<tr>\n",
       "  <th>Time:</th>                 <td>07:55:34</td>     <th>  Log-Likelihood:    </th> <td> -1140.4</td>\n",
       "</tr>\n",
       "<tr>\n",
       "  <th>No. Observations:</th>      <td>   108</td>      <th>  AIC:               </th> <td>   2293.</td>\n",
       "</tr>\n",
       "<tr>\n",
       "  <th>Df Residuals:</th>          <td>   102</td>      <th>  BIC:               </th> <td>   2309.</td>\n",
       "</tr>\n",
       "<tr>\n",
       "  <th>Df Model:</th>              <td>     5</td>      <th>                     </th>     <td> </td>   \n",
       "</tr>\n",
       "<tr>\n",
       "  <th>Covariance Type:</th>      <td>nonrobust</td>    <th>                     </th>     <td> </td>   \n",
       "</tr>\n",
       "</table>\n",
       "<table class=\"simpletable\">\n",
       "<tr>\n",
       "          <td></td>             <th>coef</th>     <th>std err</th>      <th>t</th>      <th>P>|t|</th>  <th>[0.025</th>    <th>0.975]</th>  \n",
       "</tr>\n",
       "<tr>\n",
       "  <th>const</th>             <td>-6.325e+04</td> <td> 7.24e+04</td> <td>   -0.874</td> <td> 0.384</td> <td>-2.07e+05</td> <td> 8.03e+04</td>\n",
       "</tr>\n",
       "<tr>\n",
       "  <th>population</th>        <td>    0.0058</td> <td>    0.001</td> <td>    6.508</td> <td> 0.000</td> <td>    0.004</td> <td>    0.008</td>\n",
       "</tr>\n",
       "<tr>\n",
       "  <th>dwelling</th>          <td>   -1.1099</td> <td>    0.662</td> <td>   -1.677</td> <td> 0.097</td> <td>   -2.423</td> <td>    0.203</td>\n",
       "</tr>\n",
       "<tr>\n",
       "  <th>dwelling_stock</th>    <td>   -0.0567</td> <td>    0.003</td> <td>  -17.546</td> <td> 0.000</td> <td>   -0.063</td> <td>   -0.050</td>\n",
       "</tr>\n",
       "<tr>\n",
       "  <th>mortgage_rate</th>     <td> 3843.0242</td> <td> 1480.725</td> <td>    2.595</td> <td> 0.011</td> <td>  906.013</td> <td> 6780.035</td>\n",
       "</tr>\n",
       "<tr>\n",
       "  <th>unemployment_rate</th> <td>-3538.0955</td> <td>  851.132</td> <td>   -4.157</td> <td> 0.000</td> <td>-5226.312</td> <td>-1849.879</td>\n",
       "</tr>\n",
       "</table>\n",
       "<table class=\"simpletable\">\n",
       "<tr>\n",
       "  <th>Omnibus:</th>       <td> 0.133</td> <th>  Durbin-Watson:     </th> <td>   0.246</td>\n",
       "</tr>\n",
       "<tr>\n",
       "  <th>Prob(Omnibus):</th> <td> 0.936</td> <th>  Jarque-Bera (JB):  </th> <td>   0.311</td>\n",
       "</tr>\n",
       "<tr>\n",
       "  <th>Skew:</th>          <td> 0.007</td> <th>  Prob(JB):          </th> <td>   0.856</td>\n",
       "</tr>\n",
       "<tr>\n",
       "  <th>Kurtosis:</th>      <td> 2.738</td> <th>  Cond. No.          </th> <td>4.86e+09</td>\n",
       "</tr>\n",
       "</table><br/><br/>Notes:<br/>[1] Standard Errors assume that the covariance matrix of the errors is correctly specified.<br/>[2] The condition number is large, 4.86e+09. This might indicate that there are<br/>strong multicollinearity or other numerical problems."
      ],
      "text/plain": [
       "<class 'statsmodels.iolib.summary.Summary'>\n",
       "\"\"\"\n",
       "                            OLS Regression Results                            \n",
       "==============================================================================\n",
       "Dep. Variable:                  price   R-squared:                       0.973\n",
       "Model:                            OLS   Adj. R-squared:                  0.972\n",
       "Method:                 Least Squares   F-statistic:                     730.5\n",
       "Date:                Tue, 20 Apr 2021   Prob (F-statistic):           3.74e-78\n",
       "Time:                        07:55:34   Log-Likelihood:                -1140.4\n",
       "No. Observations:                 108   AIC:                             2293.\n",
       "Df Residuals:                     102   BIC:                             2309.\n",
       "Df Model:                           5                                         \n",
       "Covariance Type:            nonrobust                                         \n",
       "=====================================================================================\n",
       "                        coef    std err          t      P>|t|      [0.025      0.975]\n",
       "-------------------------------------------------------------------------------------\n",
       "const             -6.325e+04   7.24e+04     -0.874      0.384   -2.07e+05    8.03e+04\n",
       "population            0.0058      0.001      6.508      0.000       0.004       0.008\n",
       "dwelling             -1.1099      0.662     -1.677      0.097      -2.423       0.203\n",
       "dwelling_stock       -0.0567      0.003    -17.546      0.000      -0.063      -0.050\n",
       "mortgage_rate      3843.0242   1480.725      2.595      0.011     906.013    6780.035\n",
       "unemployment_rate -3538.0955    851.132     -4.157      0.000   -5226.312   -1849.879\n",
       "==============================================================================\n",
       "Omnibus:                        0.133   Durbin-Watson:                   0.246\n",
       "Prob(Omnibus):                  0.936   Jarque-Bera (JB):                0.311\n",
       "Skew:                           0.007   Prob(JB):                        0.856\n",
       "Kurtosis:                       2.738   Cond. No.                     4.86e+09\n",
       "==============================================================================\n",
       "\n",
       "Notes:\n",
       "[1] Standard Errors assume that the covariance matrix of the errors is correctly specified.\n",
       "[2] The condition number is large, 4.86e+09. This might indicate that there are\n",
       "strong multicollinearity or other numerical problems.\n",
       "\"\"\""
      ]
     },
     "execution_count": 153,
     "metadata": {},
     "output_type": "execute_result"
    }
   ],
   "source": [
    "regressor_OLS = sm.OLS(endog=response_data, exog=sm.add_constant(df_predictors_select_VIF)).fit()\n",
    "regressor_OLS.summary()"
   ]
  },
  {
   "cell_type": "markdown",
   "metadata": {},
   "source": [
    "### Lasso"
   ]
  },
  {
   "cell_type": "code",
   "execution_count": 220,
   "metadata": {},
   "outputs": [
    {
     "data": {
      "text/plain": [
       "Lasso(max_iter=1000000000.0, normalize=True, tol=0.01)"
      ]
     },
     "execution_count": 220,
     "metadata": {},
     "output_type": "execute_result"
    }
   ],
   "source": [
    "from sklearn import linear_model\n",
    "lasso_model = linear_model.Lasso(max_iter=10e8, tol=0.01, normalize=True)\n",
    "lasso_model.fit(X=predictors_data, y=response_data)"
   ]
  },
  {
   "cell_type": "code",
   "execution_count": 221,
   "metadata": {},
   "outputs": [
    {
     "data": {
      "text/plain": [
       "0.9758363789651879"
      ]
     },
     "execution_count": 221,
     "metadata": {},
     "output_type": "execute_result"
    }
   ],
   "source": [
    "lasso_model.score(X=predictors_data, y=response_data)"
   ]
  },
  {
   "cell_type": "code",
   "execution_count": 222,
   "metadata": {},
   "outputs": [
    {
     "name": "stdout",
     "output_type": "stream",
     "text": [
      "                 var         coef\n",
      "0         population     0.002060\n",
      "1           dwelling    -2.445227\n",
      "2                GDP     0.174455\n",
      "3     dwelling_stock    -0.037045\n",
      "4      mortgage_rate  3214.659079\n",
      "5  unemployment_rate  -729.029853\n",
      "6        Real_income     0.357165\n"
     ]
    }
   ],
   "source": [
    "df_coef_lasso = pd.DataFrame({\"var\": predictors_data.columns.values, \"coef\":lasso_model.coef_})\n",
    "print(df_coef_lasso)"
   ]
  },
  {
   "cell_type": "code",
   "execution_count": 223,
   "metadata": {},
   "outputs": [
    {
     "name": "stderr",
     "output_type": "stream",
     "text": [
      "C:\\Users\\gavin\\anaconda3\\envs\\python\\lib\\site-packages\\sklearn\\linear_model\\_coordinate_descent.py:526: ConvergenceWarning: Objective did not converge. You might want to increase the number of iterations. Duality gap: 1615473214.2092285, tolerance: 253191070.7529\n",
      "  model = cd_fast.enet_coordinate_descent_gram(\n",
      "C:\\Users\\gavin\\anaconda3\\envs\\python\\lib\\site-packages\\sklearn\\linear_model\\_coordinate_descent.py:526: ConvergenceWarning: Objective did not converge. You might want to increase the number of iterations. Duality gap: 2341295681.5967674, tolerance: 253191070.7529\n",
      "  model = cd_fast.enet_coordinate_descent_gram(\n",
      "C:\\Users\\gavin\\anaconda3\\envs\\python\\lib\\site-packages\\sklearn\\linear_model\\_coordinate_descent.py:526: ConvergenceWarning: Objective did not converge. You might want to increase the number of iterations. Duality gap: 3727371422.7055373, tolerance: 253191070.7529\n",
      "  model = cd_fast.enet_coordinate_descent_gram(\n",
      "C:\\Users\\gavin\\anaconda3\\envs\\python\\lib\\site-packages\\sklearn\\linear_model\\_coordinate_descent.py:526: ConvergenceWarning: Objective did not converge. You might want to increase the number of iterations. Duality gap: 4136379552.361088, tolerance: 253191070.7529\n",
      "  model = cd_fast.enet_coordinate_descent_gram(\n",
      "C:\\Users\\gavin\\anaconda3\\envs\\python\\lib\\site-packages\\sklearn\\linear_model\\_coordinate_descent.py:526: ConvergenceWarning: Objective did not converge. You might want to increase the number of iterations. Duality gap: 4154341284.7892194, tolerance: 253191070.7529\n",
      "  model = cd_fast.enet_coordinate_descent_gram(\n",
      "C:\\Users\\gavin\\anaconda3\\envs\\python\\lib\\site-packages\\sklearn\\linear_model\\_coordinate_descent.py:526: ConvergenceWarning: Objective did not converge. You might want to increase the number of iterations. Duality gap: 4176460030.3744736, tolerance: 253191070.7529\n",
      "  model = cd_fast.enet_coordinate_descent_gram(\n"
     ]
    },
    {
     "data": {
      "text/plain": [
       "(-1.3, 5.3, -29677.255216496535, 23350.672933692364)"
      ]
     },
     "execution_count": 223,
     "metadata": {},
     "output_type": "execute_result"
    },
    {
     "data": {
      "image/png": "[encoded data removed]",
      "text/plain": [
       "<Figure size 432x288 with 1 Axes>"
      ]
     },
     "metadata": {
      "needs_background": "light"
     },
     "output_type": "display_data"
    }
   ],
   "source": [
    "from itertools import cycle\n",
    "from sklearn.linear_model import lasso_path\n",
    "predictors_data_standardised = predictors_data/predictors_data.std(axis=0)\n",
    "alphas_lasso, coefs_lasso, _ = lasso_path(predictors_data_standardised, response_data.values.reshape(-2),alphas = [.1, .5, 1, 10, 100, 1000, 100000], fit_intercept=False)\n",
    "log_alphas_lasso = np.log10(alphas_lasso)\n",
    "for coef_l in coefs_lasso:\n",
    "     ll = plt.plot(log_alphas_lasso, coef_l)\n",
    "plt.xlabel('Log(alpha)')\n",
    "plt.ylabel('coefficients')\n",
    "plt.title('Lasso Path')\n",
    "plt.axis('tight')"
   ]
  },
  {
   "cell_type": "code",
   "execution_count": 224,
   "metadata": {},
   "outputs": [
    {
     "data": {
      "text/plain": [
       "Lasso(max_iter=1000000000.0, normalize=True, tol=0.01)"
      ]
     },
     "execution_count": 224,
     "metadata": {},
     "output_type": "execute_result"
    }
   ],
   "source": [
    "predictors_data_new = predictors_data.drop(['Real_income','GDP'], axis=1)\n",
    "lasso_model.fit(X=predictors_data_new, y=response_data)"
   ]
  },
  {
   "cell_type": "code",
   "execution_count": 225,
   "metadata": {},
   "outputs": [
    {
     "data": {
      "text/plain": [
       "0.9728263117922002"
      ]
     },
     "execution_count": 225,
     "metadata": {},
     "output_type": "execute_result"
    }
   ],
   "source": [
    "lasso_model.score(X=predictors_data_new, y=response_data)"
   ]
  },
  {
   "cell_type": "code",
   "execution_count": 226,
   "metadata": {},
   "outputs": [
    {
     "name": "stdout",
     "output_type": "stream",
     "text": [
      "                 var         coef\n",
      "0         population     0.005945\n",
      "1           dwelling    -1.081849\n",
      "2     dwelling_stock    -0.056522\n",
      "3      mortgage_rate  4012.459828\n",
      "4  unemployment_rate -3454.756737\n"
     ]
    }
   ],
   "source": [
    "df_coef_lasso = pd.DataFrame({\"var\": predictors_data_new.columns.values, \"coef\":lasso_model.coef_})\n",
    "print(df_coef_lasso)"
   ]
  },
  {
   "cell_type": "code",
   "execution_count": 227,
   "metadata": {},
   "outputs": [
    {
     "data": {
      "text/plain": [
       "(-1.45, 8.45, -45356.12256812138, 18588.460376394825)"
      ]
     },
     "execution_count": 227,
     "metadata": {},
     "output_type": "execute_result"
    },
    {
     "data": {
      "image/png": "[encoded data removed]",
      "text/plain": [
       "<Figure size 432x288 with 1 Axes>"
      ]
     },
     "metadata": {
      "needs_background": "light"
     },
     "output_type": "display_data"
    }
   ],
   "source": [
    "from itertools import cycle\n",
    "from sklearn.linear_model import lasso_path\n",
    "predictors_data_standardised = predictors_data_new/predictors_data_new.std(axis=0)\n",
    "alphas_lasso, coefs_lasso, _ = lasso_path(predictors_data_standardised, response_data.values.reshape(-2),alphas = [.1, .5, 1, 10, 100, 1000, 100000, 100000000], fit_intercept=False)\n",
    "log_alphas_lasso = np.log10(alphas_lasso)\n",
    "for coef_l in coefs_lasso:\n",
    "     ll = plt.plot(log_alphas_lasso, coef_l)\n",
    "plt.xlabel('Log(alpha)')\n",
    "plt.ylabel('coefficients')\n",
    "plt.title('Lasso Path')\n",
    "plt.axis('tight')"
   ]
  },
  {
   "cell_type": "markdown",
   "metadata": {},
   "source": [
    "### Setting up the train, dev and test data"
   ]
  },
  {
   "cell_type": "code",
   "execution_count": 73,
   "metadata": {},
   "outputs": [],
   "source": [
    "X = data.drop(['price','Year'], axis=1)\n",
    "y = data['price']"
   ]
  },
  {
   "cell_type": "code",
   "execution_count": 74,
   "metadata": {},
   "outputs": [
    {
     "data": {
      "text/plain": [
       "(108, 7)"
      ]
     },
     "execution_count": 74,
     "metadata": {},
     "output_type": "execute_result"
    }
   ],
   "source": [
    "X.shape"
   ]
  },
  {
   "cell_type": "code",
   "execution_count": 75,
   "metadata": {},
   "outputs": [
    {
     "data": {
      "text/plain": [
       "(108,)"
      ]
     },
     "execution_count": 75,
     "metadata": {},
     "output_type": "execute_result"
    }
   ],
   "source": [
    "y.shape"
   ]
  },
  {
   "cell_type": "markdown",
   "metadata": {},
   "source": [
    "from sklearn.model_selection import train_test_split\n",
    "X_train, X_test, y_train, y_test = train_test_split(X, y, test_size=0.3, random_state=1)\n",
    "X_val, X_test, y_val, y_test = train_test_split(X_test, y_test, test_size=0.5, random_state=2020)"
   ]
  },
  {
   "cell_type": "code",
   "execution_count": 77,
   "metadata": {},
   "outputs": [
    {
     "data": {
      "text/plain": [
       "(75, 7)"
      ]
     },
     "execution_count": 77,
     "metadata": {},
     "output_type": "execute_result"
    }
   ],
   "source": [
    "X_train.shape"
   ]
  },
  {
   "cell_type": "code",
   "execution_count": 78,
   "metadata": {},
   "outputs": [
    {
     "data": {
      "text/plain": [
       "(16, 7)"
      ]
     },
     "execution_count": 78,
     "metadata": {},
     "output_type": "execute_result"
    }
   ],
   "source": [
    "X_val.shape"
   ]
  },
  {
   "cell_type": "code",
   "execution_count": 79,
   "metadata": {},
   "outputs": [
    {
     "data": {
      "text/plain": [
       "(17, 7)"
      ]
     },
     "execution_count": 79,
     "metadata": {},
     "output_type": "execute_result"
    }
   ],
   "source": [
    "X_test.shape"
   ]
  },
  {
   "cell_type": "markdown",
   "metadata": {},
   "source": [
    "### Linear regression"
   ]
  },
  {
   "cell_type": "code",
   "execution_count": 80,
   "metadata": {},
   "outputs": [
    {
     "data": {
      "text/plain": [
       "LinearRegression()"
      ]
     },
     "execution_count": 80,
     "metadata": {},
     "output_type": "execute_result"
    }
   ],
   "source": [
    "from sklearn.linear_model import LinearRegression\n",
    "lr = LinearRegression()\n",
    "lr.fit(X_train,y_train)"
   ]
  },
  {
   "cell_type": "code",
   "execution_count": 81,
   "metadata": {},
   "outputs": [
    {
     "data": {
      "text/plain": [
       "0.9773528518312739"
      ]
     },
     "execution_count": 81,
     "metadata": {},
     "output_type": "execute_result"
    }
   ],
   "source": [
    "lr.score(X_train, y_train)"
   ]
  },
  {
   "cell_type": "code",
   "execution_count": 82,
   "metadata": {},
   "outputs": [
    {
     "data": {
      "text/plain": [
       "0.8287513265753242"
      ]
     },
     "execution_count": 82,
     "metadata": {},
     "output_type": "execute_result"
    }
   ],
   "source": [
    "lr.score(X_val, y_val)"
   ]
  },
  {
   "cell_type": "markdown",
   "metadata": {},
   "source": [
    "### Regression Tree"
   ]
  },
  {
   "cell_type": "code",
   "execution_count": 228,
   "metadata": {},
   "outputs": [
    {
     "data": {
      "text/plain": [
       "DecisionTreeRegressor(random_state=0)"
      ]
     },
     "execution_count": 228,
     "metadata": {},
     "output_type": "execute_result"
    }
   ],
   "source": [
    "from sklearn.tree import DecisionTreeRegressor\n",
    "reg_tree = DecisionTreeRegressor(random_state=0)\n",
    "reg_tree.fit(predictors_data, response_data)"
   ]
  },
  {
   "cell_type": "code",
   "execution_count": 229,
   "metadata": {},
   "outputs": [
    {
     "data": {
      "text/plain": [
       "1.0"
      ]
     },
     "execution_count": 229,
     "metadata": {},
     "output_type": "execute_result"
    }
   ],
   "source": [
    "reg_tree.score(X=predictors_data, y=response_data)"
   ]
  },
  {
   "cell_type": "code",
   "execution_count": 230,
   "metadata": {},
   "outputs": [
    {
     "data": {
      "text/html": [
       "<div>\n",
       "<style scoped>\n",
       "    .dataframe tbody tr th:only-of-type {\n",
       "        vertical-align: middle;\n",
       "    }\n",
       "\n",
       "    .dataframe tbody tr th {\n",
       "        vertical-align: top;\n",
       "    }\n",
       "\n",
       "    .dataframe thead th {\n",
       "        text-align: right;\n",
       "    }\n",
       "</style>\n",
       "<table border=\"1\" class=\"dataframe\">\n",
       "  <thead>\n",
       "    <tr style=\"text-align: right;\">\n",
       "      <th></th>\n",
       "      <th>price</th>\n",
       "      <th>population</th>\n",
       "      <th>dwelling</th>\n",
       "      <th>GDP</th>\n",
       "      <th>dwelling_stock</th>\n",
       "      <th>mortgage_rate</th>\n",
       "      <th>unemployment_rate</th>\n",
       "      <th>Real_income</th>\n",
       "    </tr>\n",
       "  </thead>\n",
       "  <tbody>\n",
       "    <tr>\n",
       "      <th>count</th>\n",
       "      <td>108.000000</td>\n",
       "      <td>1.080000e+02</td>\n",
       "      <td>108.000000</td>\n",
       "      <td>108.000000</td>\n",
       "      <td>1.080000e+02</td>\n",
       "      <td>108.000000</td>\n",
       "      <td>108.000000</td>\n",
       "      <td>108.000000</td>\n",
       "    </tr>\n",
       "    <tr>\n",
       "      <th>mean</th>\n",
       "      <td>142290.990741</td>\n",
       "      <td>6.183294e+07</td>\n",
       "      <td>21955.703704</td>\n",
       "      <td>444730.074074</td>\n",
       "      <td>2.296837e+06</td>\n",
       "      <td>5.490185</td>\n",
       "      <td>6.099074</td>\n",
       "      <td>295790.935185</td>\n",
       "    </tr>\n",
       "    <tr>\n",
       "      <th>std</th>\n",
       "      <td>56804.657450</td>\n",
       "      <td>3.093832e+06</td>\n",
       "      <td>1717.373017</td>\n",
       "      <td>63940.667671</td>\n",
       "      <td>7.241507e+05</td>\n",
       "      <td>1.273513</td>\n",
       "      <td>1.547533</td>\n",
       "      <td>47827.254735</td>\n",
       "    </tr>\n",
       "    <tr>\n",
       "      <th>min</th>\n",
       "      <td>50930.000000</td>\n",
       "      <td>5.786210e+07</td>\n",
       "      <td>15950.000000</td>\n",
       "      <td>317468.000000</td>\n",
       "      <td>1.583068e+06</td>\n",
       "      <td>3.620000</td>\n",
       "      <td>3.800000</td>\n",
       "      <td>208365.000000</td>\n",
       "    </tr>\n",
       "    <tr>\n",
       "      <th>25%</th>\n",
       "      <td>81521.500000</td>\n",
       "      <td>5.888610e+07</td>\n",
       "      <td>20927.000000</td>\n",
       "      <td>396169.500000</td>\n",
       "      <td>1.668683e+06</td>\n",
       "      <td>4.290000</td>\n",
       "      <td>4.975000</td>\n",
       "      <td>261115.250000</td>\n",
       "    </tr>\n",
       "    <tr>\n",
       "      <th>50%</th>\n",
       "      <td>162247.500000</td>\n",
       "      <td>6.131910e+07</td>\n",
       "      <td>22073.000000</td>\n",
       "      <td>459800.500000</td>\n",
       "      <td>1.987343e+06</td>\n",
       "      <td>5.545000</td>\n",
       "      <td>5.500000</td>\n",
       "      <td>306959.500000</td>\n",
       "    </tr>\n",
       "    <tr>\n",
       "      <th>75%</th>\n",
       "      <td>184734.250000</td>\n",
       "      <td>6.459680e+07</td>\n",
       "      <td>23236.000000</td>\n",
       "      <td>491801.500000</td>\n",
       "      <td>3.011995e+06</td>\n",
       "      <td>6.622500</td>\n",
       "      <td>7.800000</td>\n",
       "      <td>329007.750000</td>\n",
       "    </tr>\n",
       "    <tr>\n",
       "      <th>max</th>\n",
       "      <td>229819.000000</td>\n",
       "      <td>6.788601e+07</td>\n",
       "      <td>24414.000000</td>\n",
       "      <td>544733.000000</td>\n",
       "      <td>3.666190e+06</td>\n",
       "      <td>7.740000</td>\n",
       "      <td>9.900000</td>\n",
       "      <td>370990.000000</td>\n",
       "    </tr>\n",
       "  </tbody>\n",
       "</table>\n",
       "</div>"
      ],
      "text/plain": [
       "               price    population      dwelling            GDP  \\\n",
       "count     108.000000  1.080000e+02    108.000000     108.000000   \n",
       "mean   142290.990741  6.183294e+07  21955.703704  444730.074074   \n",
       "std     56804.657450  3.093832e+06   1717.373017   63940.667671   \n",
       "min     50930.000000  5.786210e+07  15950.000000  317468.000000   \n",
       "25%     81521.500000  5.888610e+07  20927.000000  396169.500000   \n",
       "50%    162247.500000  6.131910e+07  22073.000000  459800.500000   \n",
       "75%    184734.250000  6.459680e+07  23236.000000  491801.500000   \n",
       "max    229819.000000  6.788601e+07  24414.000000  544733.000000   \n",
       "\n",
       "       dwelling_stock  mortgage_rate  unemployment_rate    Real_income  \n",
       "count    1.080000e+02     108.000000         108.000000     108.000000  \n",
       "mean     2.296837e+06       5.490185           6.099074  295790.935185  \n",
       "std      7.241507e+05       1.273513           1.547533   47827.254735  \n",
       "min      1.583068e+06       3.620000           3.800000  208365.000000  \n",
       "25%      1.668683e+06       4.290000           4.975000  261115.250000  \n",
       "50%      1.987343e+06       5.545000           5.500000  306959.500000  \n",
       "75%      3.011995e+06       6.622500           7.800000  329007.750000  \n",
       "max      3.666190e+06       7.740000           9.900000  370990.000000  "
      ]
     },
     "execution_count": 230,
     "metadata": {},
     "output_type": "execute_result"
    }
   ],
   "source": [
    "data.describe(include=[np.number])"
   ]
  },
  {
   "cell_type": "code",
   "execution_count": 231,
   "metadata": {},
   "outputs": [
    {
     "data": {
      "text/plain": [
       "142290.99074074073"
      ]
     },
     "execution_count": 231,
     "metadata": {},
     "output_type": "execute_result"
    }
   ],
   "source": [
    "ave=np.mean(data['price'])\n",
    "ave"
   ]
  },
  {
   "cell_type": "code",
   "execution_count": 233,
   "metadata": {},
   "outputs": [
    {
     "data": {
      "text/html": [
       "<div>\n",
       "<style scoped>\n",
       "    .dataframe tbody tr th:only-of-type {\n",
       "        vertical-align: middle;\n",
       "    }\n",
       "\n",
       "    .dataframe tbody tr th {\n",
       "        vertical-align: top;\n",
       "    }\n",
       "\n",
       "    .dataframe thead th {\n",
       "        text-align: right;\n",
       "    }\n",
       "</style>\n",
       "<table border=\"1\" class=\"dataframe\">\n",
       "  <thead>\n",
       "    <tr style=\"text-align: right;\">\n",
       "      <th></th>\n",
       "      <th>over_mean</th>\n",
       "    </tr>\n",
       "  </thead>\n",
       "  <tbody>\n",
       "    <tr>\n",
       "      <th>0</th>\n",
       "      <td>False</td>\n",
       "    </tr>\n",
       "    <tr>\n",
       "      <th>1</th>\n",
       "      <td>False</td>\n",
       "    </tr>\n",
       "    <tr>\n",
       "      <th>2</th>\n",
       "      <td>False</td>\n",
       "    </tr>\n",
       "    <tr>\n",
       "      <th>3</th>\n",
       "      <td>False</td>\n",
       "    </tr>\n",
       "    <tr>\n",
       "      <th>4</th>\n",
       "      <td>False</td>\n",
       "    </tr>\n",
       "    <tr>\n",
       "      <th>...</th>\n",
       "      <td>...</td>\n",
       "    </tr>\n",
       "    <tr>\n",
       "      <th>103</th>\n",
       "      <td>True</td>\n",
       "    </tr>\n",
       "    <tr>\n",
       "      <th>104</th>\n",
       "      <td>True</td>\n",
       "    </tr>\n",
       "    <tr>\n",
       "      <th>105</th>\n",
       "      <td>True</td>\n",
       "    </tr>\n",
       "    <tr>\n",
       "      <th>106</th>\n",
       "      <td>True</td>\n",
       "    </tr>\n",
       "    <tr>\n",
       "      <th>107</th>\n",
       "      <td>True</td>\n",
       "    </tr>\n",
       "  </tbody>\n",
       "</table>\n",
       "<p>108 rows × 1 columns</p>\n",
       "</div>"
      ],
      "text/plain": [
       "     over_mean\n",
       "0        False\n",
       "1        False\n",
       "2        False\n",
       "3        False\n",
       "4        False\n",
       "..         ...\n",
       "103       True\n",
       "104       True\n",
       "105       True\n",
       "106       True\n",
       "107       True\n",
       "\n",
       "[108 rows x 1 columns]"
      ]
     },
     "execution_count": 233,
     "metadata": {},
     "output_type": "execute_result"
    }
   ],
   "source": [
    "a=pd.DataFrame({'over_mean':data['price']>=ave})\n",
    "a"
   ]
  },
  {
   "cell_type": "code",
   "execution_count": 235,
   "metadata": {},
   "outputs": [
    {
     "data": {
      "text/html": [
       "<div>\n",
       "<style scoped>\n",
       "    .dataframe tbody tr th:only-of-type {\n",
       "        vertical-align: middle;\n",
       "    }\n",
       "\n",
       "    .dataframe tbody tr th {\n",
       "        vertical-align: top;\n",
       "    }\n",
       "\n",
       "    .dataframe thead th {\n",
       "        text-align: right;\n",
       "    }\n",
       "</style>\n",
       "<table border=\"1\" class=\"dataframe\">\n",
       "  <thead>\n",
       "    <tr style=\"text-align: right;\">\n",
       "      <th></th>\n",
       "      <th>price</th>\n",
       "      <th>population</th>\n",
       "      <th>dwelling</th>\n",
       "      <th>GDP</th>\n",
       "      <th>dwelling_stock</th>\n",
       "      <th>mortgage_rate</th>\n",
       "      <th>unemployment_rate</th>\n",
       "      <th>Real_income</th>\n",
       "      <th>over_mean</th>\n",
       "    </tr>\n",
       "  </thead>\n",
       "  <tbody>\n",
       "    <tr>\n",
       "      <th>0</th>\n",
       "      <td>51327</td>\n",
       "      <td>57862100</td>\n",
       "      <td>20139</td>\n",
       "      <td>317468</td>\n",
       "      <td>3666190</td>\n",
       "      <td>5.13</td>\n",
       "      <td>9.9</td>\n",
       "      <td>208676</td>\n",
       "      <td>False</td>\n",
       "    </tr>\n",
       "    <tr>\n",
       "      <th>1</th>\n",
       "      <td>51362</td>\n",
       "      <td>57862100</td>\n",
       "      <td>20139</td>\n",
       "      <td>321166</td>\n",
       "      <td>3666190</td>\n",
       "      <td>5.33</td>\n",
       "      <td>9.7</td>\n",
       "      <td>208365</td>\n",
       "      <td>False</td>\n",
       "    </tr>\n",
       "    <tr>\n",
       "      <th>2</th>\n",
       "      <td>51731</td>\n",
       "      <td>57862100</td>\n",
       "      <td>20139</td>\n",
       "      <td>324811</td>\n",
       "      <td>3666190</td>\n",
       "      <td>5.63</td>\n",
       "      <td>9.4</td>\n",
       "      <td>212502</td>\n",
       "      <td>False</td>\n",
       "    </tr>\n",
       "    <tr>\n",
       "      <th>3</th>\n",
       "      <td>52114</td>\n",
       "      <td>57862100</td>\n",
       "      <td>20139</td>\n",
       "      <td>326734</td>\n",
       "      <td>3666190</td>\n",
       "      <td>6.13</td>\n",
       "      <td>9.0</td>\n",
       "      <td>211454</td>\n",
       "      <td>False</td>\n",
       "    </tr>\n",
       "    <tr>\n",
       "      <th>4</th>\n",
       "      <td>51084</td>\n",
       "      <td>58024800</td>\n",
       "      <td>20305</td>\n",
       "      <td>328056</td>\n",
       "      <td>3564590</td>\n",
       "      <td>6.63</td>\n",
       "      <td>8.9</td>\n",
       "      <td>215037</td>\n",
       "      <td>False</td>\n",
       "    </tr>\n",
       "    <tr>\n",
       "      <th>...</th>\n",
       "      <td>...</td>\n",
       "      <td>...</td>\n",
       "      <td>...</td>\n",
       "      <td>...</td>\n",
       "      <td>...</td>\n",
       "      <td>...</td>\n",
       "      <td>...</td>\n",
       "      <td>...</td>\n",
       "      <td>...</td>\n",
       "    </tr>\n",
       "    <tr>\n",
       "      <th>103</th>\n",
       "      <td>215925</td>\n",
       "      <td>66796800</td>\n",
       "      <td>24414</td>\n",
       "      <td>544733</td>\n",
       "      <td>1587164</td>\n",
       "      <td>4.27</td>\n",
       "      <td>3.8</td>\n",
       "      <td>370990</td>\n",
       "      <td>True</td>\n",
       "    </tr>\n",
       "    <tr>\n",
       "      <th>104</th>\n",
       "      <td>217911</td>\n",
       "      <td>67886011</td>\n",
       "      <td>15950</td>\n",
       "      <td>529223</td>\n",
       "      <td>1583068</td>\n",
       "      <td>4.10</td>\n",
       "      <td>4.0</td>\n",
       "      <td>365330</td>\n",
       "      <td>True</td>\n",
       "    </tr>\n",
       "    <tr>\n",
       "      <th>105</th>\n",
       "      <td>220133</td>\n",
       "      <td>67886011</td>\n",
       "      <td>15950</td>\n",
       "      <td>426197</td>\n",
       "      <td>1583068</td>\n",
       "      <td>3.65</td>\n",
       "      <td>4.1</td>\n",
       "      <td>353774</td>\n",
       "      <td>True</td>\n",
       "    </tr>\n",
       "    <tr>\n",
       "      <th>106</th>\n",
       "      <td>224337</td>\n",
       "      <td>67886011</td>\n",
       "      <td>15950</td>\n",
       "      <td>498429</td>\n",
       "      <td>1583068</td>\n",
       "      <td>3.65</td>\n",
       "      <td>4.8</td>\n",
       "      <td>367916</td>\n",
       "      <td>True</td>\n",
       "    </tr>\n",
       "    <tr>\n",
       "      <th>107</th>\n",
       "      <td>229819</td>\n",
       "      <td>67886011</td>\n",
       "      <td>15950</td>\n",
       "      <td>504742</td>\n",
       "      <td>1583068</td>\n",
       "      <td>3.62</td>\n",
       "      <td>5.1</td>\n",
       "      <td>370173</td>\n",
       "      <td>True</td>\n",
       "    </tr>\n",
       "  </tbody>\n",
       "</table>\n",
       "<p>108 rows × 9 columns</p>\n",
       "</div>"
      ],
      "text/plain": [
       "      price  population  dwelling     GDP  dwelling_stock  mortgage_rate  \\\n",
       "0     51327    57862100     20139  317468         3666190           5.13   \n",
       "1     51362    57862100     20139  321166         3666190           5.33   \n",
       "2     51731    57862100     20139  324811         3666190           5.63   \n",
       "3     52114    57862100     20139  326734         3666190           6.13   \n",
       "4     51084    58024800     20305  328056         3564590           6.63   \n",
       "..      ...         ...       ...     ...             ...            ...   \n",
       "103  215925    66796800     24414  544733         1587164           4.27   \n",
       "104  217911    67886011     15950  529223         1583068           4.10   \n",
       "105  220133    67886011     15950  426197         1583068           3.65   \n",
       "106  224337    67886011     15950  498429         1583068           3.65   \n",
       "107  229819    67886011     15950  504742         1583068           3.62   \n",
       "\n",
       "     unemployment_rate  Real_income  over_mean  \n",
       "0                  9.9       208676      False  \n",
       "1                  9.7       208365      False  \n",
       "2                  9.4       212502      False  \n",
       "3                  9.0       211454      False  \n",
       "4                  8.9       215037      False  \n",
       "..                 ...          ...        ...  \n",
       "103                3.8       370990       True  \n",
       "104                4.0       365330       True  \n",
       "105                4.1       353774       True  \n",
       "106                4.8       367916       True  \n",
       "107                5.1       370173       True  \n",
       "\n",
       "[108 rows x 9 columns]"
      ]
     },
     "execution_count": 235,
     "metadata": {},
     "output_type": "execute_result"
    }
   ],
   "source": [
    "b = pd.concat( [data , a], axis=1 )\n",
    "b"
   ]
  },
  {
   "cell_type": "code",
   "execution_count": 236,
   "metadata": {},
   "outputs": [],
   "source": [
    "A = b.drop(['over_mean','price'], axis=1)\n",
    "y = b['over_mean']"
   ]
  },
  {
   "cell_type": "code",
   "execution_count": 237,
   "metadata": {},
   "outputs": [
    {
     "data": {
      "text/plain": [
       "True     67\n",
       "False    41\n",
       "Name: over_mean, dtype: int64"
      ]
     },
     "execution_count": 237,
     "metadata": {},
     "output_type": "execute_result"
    }
   ],
   "source": [
    "b['over_mean'].value_counts()"
   ]
  },
  {
   "cell_type": "code",
   "execution_count": 238,
   "metadata": {},
   "outputs": [],
   "source": [
    "from sklearn.preprocessing import LabelEncoder\n",
    "le = LabelEncoder()\n",
    "le.fit([True,False])\n",
    "labels_fea = le.transform(b['over_mean'])"
   ]
  },
  {
   "cell_type": "markdown",
   "metadata": {},
   "source": [
    "### Random forest"
   ]
  },
  {
   "cell_type": "code",
   "execution_count": 83,
   "metadata": {},
   "outputs": [
    {
     "data": {
      "text/plain": [
       "RandomForestRegressor()"
      ]
     },
     "execution_count": 83,
     "metadata": {},
     "output_type": "execute_result"
    }
   ],
   "source": [
    "from sklearn.ensemble import RandomForestRegressor\n",
    "rf = RandomForestRegressor(n_estimators=100)\n",
    "rf.fit(X_train,y_train)"
   ]
  },
  {
   "cell_type": "code",
   "execution_count": 84,
   "metadata": {},
   "outputs": [
    {
     "data": {
      "text/plain": [
       "0.9993519107364807"
      ]
     },
     "execution_count": 84,
     "metadata": {},
     "output_type": "execute_result"
    }
   ],
   "source": [
    "rf.score(X_train, y_train)"
   ]
  },
  {
   "cell_type": "code",
   "execution_count": 85,
   "metadata": {},
   "outputs": [
    {
     "data": {
      "text/plain": [
       "0.9376622637707264"
      ]
     },
     "execution_count": 85,
     "metadata": {},
     "output_type": "execute_result"
    }
   ],
   "source": [
    "rf.score(X_val, y_val)"
   ]
  }
 ],
 "metadata": {
  "kernelspec": {
   "display_name": "Python 3",
   "language": "python",
   "name": "python3"
  },
  "language_info": {
   "codemirror_mode": {
    "name": "ipython",
    "version": 3
   },
   "file_extension": ".py",
   "mimetype": "text/x-python",
   "name": "python",
   "nbconvert_exporter": "python",
   "pygments_lexer": "ipython3",
   "version": "3.8.5"
  }
 },
 "nbformat": 4,
 "nbformat_minor": 4
}
