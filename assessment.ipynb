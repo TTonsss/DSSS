{
 "cells": [
  {
   "cell_type": "markdown",
   "metadata": {},
   "source": [
    "# Most important factors that affect the house price and the prediction\n",
    "<p style=\"color:DimGray; text-align:left; font-size:20px\"><i> the case of the United Kingdom </i></p>\n",
    "<a id=\"ID_title\"></a>\n",
    "\n",
    "_This is the assignment for the UCL CASA module Data Science for Spatial Systems (CASA0006) <br>This is a self-contained Jupyter notebook with structure introduction, discussion, and embedded code and bibliography._"
   ]
  },
  {
   "cell_type": "markdown",
   "metadata": {},
   "source": [
    "<p style=\"color:DimGray; text-align:left;\"><i>This paper investigates the data gathered from GOV.uk, ONS (Office for National Statistics), Bank of England, London Datastore, Nationwide Building Society. It uses different multiple linear regression to determine the factors that make a significant impact on the UK house price. And it is reproducible for other cases with the data from other areas.</i></p>"
   ]
  },
  {
   "cell_type": "markdown",
   "metadata": {},
   "source": [
    "***"
   ]
  },
  {
   "cell_type": "markdown",
   "metadata": {},
   "source": [
    "<a id=\"ID_intr\"></a>\n",
    "| [1.0 Introduciton](#ID_intr) | [2.0 Lit. review](#ID_lit) | [3.0 Data Presentation](#ID_Data) | [4.0 Methodology](#ID_Method) | [5.0 Results](#ID_Results) | [6.0 Discussion](#ID_Discussion) | [7.0 Conclusion](#ID_Conclusion) | [Bibliography](#ID_Biblio) | [Appendix](#ID_Appendix) |\n",
    "\n",
    "## 1.0 | Introduction"
   ]
  },
  {
   "cell_type": "markdown",
   "metadata": {},
   "source": [
    "In recent years, since the house price is linked to the development and investment in the real estate industry, its attention has been raised from the government and public worldwide. There are too many factors that influence the house price, making it difficult to provide a sufficient theoretical basis for the fluctuation of house prices and their influencing factors due to the imitation and paranoia of their respective views. This paper will investigate data from 1994 to 2020 in the UK house market and under its economic environment, with the analysis and compare with several multiple linear regression models to discover the most critical factors that affect the house price in the UK. Specifically, from all possible factors that may influence the UK house price, seven elements have been selected for the analysis, which is considered the best reflects the state of the British economy. And using appropriate data processing methods to avoid low significant parameters for the linear regressions. After that, four multiple linear regressions have been advanced by the previous methods with the best scores and used to analyse and generate the results of the research question. "
   ]
  },
  {
   "cell_type": "markdown",
   "metadata": {},
   "source": [
    "### 1.1 | Requirements to run the analysis\n",
    "\n",
    "Overview of packages with brief explanations."
   ]
  },
  {
   "cell_type": "code",
   "execution_count": 1,
   "metadata": {},
   "outputs": [],
   "source": [
    "# Packages for data manipulation and processing\n",
    "import math\n",
    "import numpy as np\n",
    "import pandas as pd\n",
    "\n",
    "# Package for timing\n",
    "import time\n",
    "start_time = time.time()\n",
    "\n",
    "# Package for visualisation\n",
    "import matplotlib.pyplot as plt\n",
    "\n",
    "# Packages for analysis\n",
    "import statsmodels.api as sm\n",
    "import statsmodels.formula.api as smf\n",
    "from statsmodels.stats.outliers_influence import variance_inflation_factor \n",
    "from statsmodels.tools.tools import add_constant\n",
    "from sklearn.linear_model import LinearRegression\n",
    "from sklearn import linear_model\n",
    "from itertools import cycle\n",
    "from sklearn.linear_model import lasso_path\n",
    "from sklearn.tree import DecisionTreeRegressor\n",
    "from sklearn.preprocessing import LabelEncoder\n",
    "from sklearn.feature_extraction import DictVectorizer\n",
    "from sklearn.tree import DecisionTreeClassifier\n",
    "from sklearn import metrics\n",
    "from sklearn import tree\n",
    "from sklearn.tree import export_text\n",
    "from sklearn.model_selection import train_test_split\n",
    "from sklearn.ensemble import RandomForestRegressor\n",
    "from sklearn import model_selection\n",
    "from sklearn.model_selection import validation_curve"
   ]
  },
  {
   "cell_type": "markdown",
   "metadata": {},
   "source": [
    "***\n",
    "<a id=\"ID_lit\"></a>\n",
    "| [1.0 Introduciton](#ID_intr) | [2.0 Lit. review](#ID_lit) | [3.0 Data Presentation](#ID_Data) | [4.0 Methodology](#ID_Method) | [5.0 Results](#ID_Results) | [6.0 Discussion](#ID_Discussion) | [7.0 Conclusion](#ID_Conclusion) | [Bibliography](#ID_Biblio) | [Appendix](#ID_Appendix) |\n",
    "\n",
    "## 2.0 | Literature review"
   ]
  },
  {
   "cell_type": "markdown",
   "metadata": {},
   "source": [
    "In the previous studies, scholars have found out the fundamentals of economic analysis as the measures for real estate price (Case and Shiller, 2004). The six measurements that Case has selected are the personal income, population, employment rate, unemployment rate, housing starts (the number of building work for new houses that has started within a particular time), average mortgage interest rates. The prediction has been generated out by applying regression analysis to the data. Similar factors are chosen by Poterba (1991); he used gross household income, interest rate, tax rate, the maintenance cost of buildings, population, and other financial parameters to model the house price dynamics. Also, in the short analysis by the Ministry of Housing, Communities and Local Government (MHCLG) (2018) illustrates the individual relationships between some significant determinants from the housing market and house prices. It has included household growth, real income growth, interest rate reduction, and housing supply as four main determinants to describe the fluctuation of the UK house price.\n",
    "\n",
    "In this paper, seven factors will be used in the multiple linear regression to model the house price. Population and number of dwellings are used to reflect the demand for houses in the UK, and the dwelling stock can explain the housing supply. GDP and unemployment rates show the local economic fundamental. The mortgage interest rates and real income of households can illustrate the affordability of citizens in the UK. The data is scratched from several websites: GOV.uk, ONS (Office for National Statistics), Bank of England, London Datastore, Nationwide Building Societ with the same time series from 1994 to 2020. The time step is divided into quarters to maximize the volume of the dataset and avoid inaccuracy from the parametres which have only annual data. By improving the simple linear regression, multiple linear regressions are used in this data investigation to find the most critical factors that affect the house price in the UK. "
   ]
  },
  {
   "cell_type": "markdown",
   "metadata": {},
   "source": [
    "***\n",
    "<a id=\"ID_Data\"></a>\n",
    "| [1.0 Introduciton](#ID_intr) | [2.0 Lit. review](#ID_lit) | [3.0 Data Presentation](#ID_Data) | [4.0 Methodology](#ID_Method) | [5.0 Results](#ID_Results) | [6.0 Discussion](#ID_Discussion) | [7.0 Conclusion](#ID_Conclusion) | [Bibliography](#ID_Biblio) | [Appendix](#ID_Appendix) |\n",
    "\n",
    "## 3.0 | Data Presentation"
   ]
  },
  {
   "cell_type": "markdown",
   "metadata": {},
   "source": [
    "In this stage, the purpose is to load the data and check the elements in this data for validation. Then do the data cleaning and pre-process for further analysis in 5.0 Results. The data is collected from the UK government and several open-source statistic websites for analysing the UK house price. It contains the UK house prices from 1994 to 2020 quarterly in the order of relative time series. And it also includes the UK population, number of dwellings, GDP in millions, dwelling stock, mortgage interest rates, unemployment rates, and real income of households in the same order. The house price is chosen as the dependent variable, and the rest seven factors will be independent variables."
   ]
  },
  {
   "cell_type": "markdown",
   "metadata": {},
   "source": [
    "The data has been uploaded to the GitHub as a public resource, and use `panda.read_csv` to load the data by this link."
   ]
  },
  {
   "cell_type": "code",
   "execution_count": 2,
   "metadata": {},
   "outputs": [],
   "source": [
    "data = pd.read_csv('https://raw.githubusercontent.com/TTonsss/DSSS/main/data.csv')"
   ]
  },
  {
   "cell_type": "markdown",
   "metadata": {},
   "source": [
    "Using `.info()` to check the number of non-null values to make sure if there are missing values and the data type for each column in the dataset."
   ]
  },
  {
   "cell_type": "code",
   "execution_count": 3,
   "metadata": {},
   "outputs": [
    {
     "name": "stdout",
     "output_type": "stream",
     "text": [
      "<class 'pandas.core.frame.DataFrame'>\n",
      "RangeIndex: 108 entries, 0 to 107\n",
      "Data columns (total 9 columns):\n",
      " #   Column             Non-Null Count  Dtype  \n",
      "---  ------             --------------  -----  \n",
      " 0   Year               108 non-null    object \n",
      " 1   House_price        108 non-null    int64  \n",
      " 2   Population         108 non-null    int64  \n",
      " 3   dwelling           108 non-null    int64  \n",
      " 4   GDP(m)             108 non-null    int64  \n",
      " 5   dwelling stock     108 non-null    int64  \n",
      " 6   mortgage_rate      108 non-null    float64\n",
      " 7   unemployment_rate  108 non-null    float64\n",
      " 8   Real_income        108 non-null    int64  \n",
      "dtypes: float64(2), int64(6), object(1)\n",
      "memory usage: 7.7+ KB\n"
     ]
    }
   ],
   "source": [
    "data.info()"
   ]
  },
  {
   "cell_type": "markdown",
   "metadata": {},
   "source": [
    "`.head()` shows the title and the detailed data in first 5 rows."
   ]
  },
  {
   "cell_type": "code",
   "execution_count": 4,
   "metadata": {},
   "outputs": [
    {
     "data": {
      "text/html": [
       "<div>\n",
       "<style scoped>\n",
       "    .dataframe tbody tr th:only-of-type {\n",
       "        vertical-align: middle;\n",
       "    }\n",
       "\n",
       "    .dataframe tbody tr th {\n",
       "        vertical-align: top;\n",
       "    }\n",
       "\n",
       "    .dataframe thead th {\n",
       "        text-align: right;\n",
       "    }\n",
       "</style>\n",
       "<table border=\"1\" class=\"dataframe\">\n",
       "  <thead>\n",
       "    <tr style=\"text-align: right;\">\n",
       "      <th></th>\n",
       "      <th>Year</th>\n",
       "      <th>House_price</th>\n",
       "      <th>Population</th>\n",
       "      <th>dwelling</th>\n",
       "      <th>GDP(m)</th>\n",
       "      <th>dwelling stock</th>\n",
       "      <th>mortgage_rate</th>\n",
       "      <th>unemployment_rate</th>\n",
       "      <th>Real_income</th>\n",
       "    </tr>\n",
       "  </thead>\n",
       "  <tbody>\n",
       "    <tr>\n",
       "      <th>0</th>\n",
       "      <td>Q1 1994</td>\n",
       "      <td>51327</td>\n",
       "      <td>57862100</td>\n",
       "      <td>20139</td>\n",
       "      <td>317468</td>\n",
       "      <td>3666190</td>\n",
       "      <td>5.13</td>\n",
       "      <td>9.9</td>\n",
       "      <td>208676</td>\n",
       "    </tr>\n",
       "    <tr>\n",
       "      <th>1</th>\n",
       "      <td>Q2 1994</td>\n",
       "      <td>51362</td>\n",
       "      <td>57862100</td>\n",
       "      <td>20139</td>\n",
       "      <td>321166</td>\n",
       "      <td>3666190</td>\n",
       "      <td>5.33</td>\n",
       "      <td>9.7</td>\n",
       "      <td>208365</td>\n",
       "    </tr>\n",
       "    <tr>\n",
       "      <th>2</th>\n",
       "      <td>Q3 1994</td>\n",
       "      <td>51731</td>\n",
       "      <td>57862100</td>\n",
       "      <td>20139</td>\n",
       "      <td>324811</td>\n",
       "      <td>3666190</td>\n",
       "      <td>5.63</td>\n",
       "      <td>9.4</td>\n",
       "      <td>212502</td>\n",
       "    </tr>\n",
       "    <tr>\n",
       "      <th>3</th>\n",
       "      <td>Q4 1994</td>\n",
       "      <td>52114</td>\n",
       "      <td>57862100</td>\n",
       "      <td>20139</td>\n",
       "      <td>326734</td>\n",
       "      <td>3666190</td>\n",
       "      <td>6.13</td>\n",
       "      <td>9.0</td>\n",
       "      <td>211454</td>\n",
       "    </tr>\n",
       "    <tr>\n",
       "      <th>4</th>\n",
       "      <td>Q1 1995</td>\n",
       "      <td>51084</td>\n",
       "      <td>58024800</td>\n",
       "      <td>20305</td>\n",
       "      <td>328056</td>\n",
       "      <td>3564590</td>\n",
       "      <td>6.63</td>\n",
       "      <td>8.9</td>\n",
       "      <td>215037</td>\n",
       "    </tr>\n",
       "  </tbody>\n",
       "</table>\n",
       "</div>"
      ],
      "text/plain": [
       "      Year  House_price  Population  dwelling  GDP(m)  dwelling stock  \\\n",
       "0  Q1 1994        51327    57862100     20139  317468         3666190   \n",
       "1  Q2 1994        51362    57862100     20139  321166         3666190   \n",
       "2  Q3 1994        51731    57862100     20139  324811         3666190   \n",
       "3  Q4 1994        52114    57862100     20139  326734         3666190   \n",
       "4  Q1 1995        51084    58024800     20305  328056         3564590   \n",
       "\n",
       "   mortgage_rate  unemployment_rate  Real_income  \n",
       "0           5.13                9.9       208676  \n",
       "1           5.33                9.7       208365  \n",
       "2           5.63                9.4       212502  \n",
       "3           6.13                9.0       211454  \n",
       "4           6.63                8.9       215037  "
      ]
     },
     "execution_count": 4,
     "metadata": {},
     "output_type": "execute_result"
    }
   ],
   "source": [
    "data.head()"
   ]
  },
  {
   "cell_type": "markdown",
   "metadata": {},
   "source": [
    "Some titles include spaces, and brackets. Use `.rename()` to change the column name."
   ]
  },
  {
   "cell_type": "code",
   "execution_count": 5,
   "metadata": {},
   "outputs": [
    {
     "data": {
      "text/html": [
       "<div>\n",
       "<style scoped>\n",
       "    .dataframe tbody tr th:only-of-type {\n",
       "        vertical-align: middle;\n",
       "    }\n",
       "\n",
       "    .dataframe tbody tr th {\n",
       "        vertical-align: top;\n",
       "    }\n",
       "\n",
       "    .dataframe thead th {\n",
       "        text-align: right;\n",
       "    }\n",
       "</style>\n",
       "<table border=\"1\" class=\"dataframe\">\n",
       "  <thead>\n",
       "    <tr style=\"text-align: right;\">\n",
       "      <th></th>\n",
       "      <th>Year</th>\n",
       "      <th>price</th>\n",
       "      <th>population</th>\n",
       "      <th>dwelling</th>\n",
       "      <th>GDP</th>\n",
       "      <th>dwelling_stock</th>\n",
       "      <th>mortgage_rate</th>\n",
       "      <th>unemployment_rate</th>\n",
       "      <th>Real_income</th>\n",
       "    </tr>\n",
       "  </thead>\n",
       "  <tbody>\n",
       "    <tr>\n",
       "      <th>0</th>\n",
       "      <td>Q1 1994</td>\n",
       "      <td>51327</td>\n",
       "      <td>57862100</td>\n",
       "      <td>20139</td>\n",
       "      <td>317468</td>\n",
       "      <td>3666190</td>\n",
       "      <td>5.13</td>\n",
       "      <td>9.9</td>\n",
       "      <td>208676</td>\n",
       "    </tr>\n",
       "    <tr>\n",
       "      <th>1</th>\n",
       "      <td>Q2 1994</td>\n",
       "      <td>51362</td>\n",
       "      <td>57862100</td>\n",
       "      <td>20139</td>\n",
       "      <td>321166</td>\n",
       "      <td>3666190</td>\n",
       "      <td>5.33</td>\n",
       "      <td>9.7</td>\n",
       "      <td>208365</td>\n",
       "    </tr>\n",
       "    <tr>\n",
       "      <th>2</th>\n",
       "      <td>Q3 1994</td>\n",
       "      <td>51731</td>\n",
       "      <td>57862100</td>\n",
       "      <td>20139</td>\n",
       "      <td>324811</td>\n",
       "      <td>3666190</td>\n",
       "      <td>5.63</td>\n",
       "      <td>9.4</td>\n",
       "      <td>212502</td>\n",
       "    </tr>\n",
       "    <tr>\n",
       "      <th>3</th>\n",
       "      <td>Q4 1994</td>\n",
       "      <td>52114</td>\n",
       "      <td>57862100</td>\n",
       "      <td>20139</td>\n",
       "      <td>326734</td>\n",
       "      <td>3666190</td>\n",
       "      <td>6.13</td>\n",
       "      <td>9.0</td>\n",
       "      <td>211454</td>\n",
       "    </tr>\n",
       "    <tr>\n",
       "      <th>4</th>\n",
       "      <td>Q1 1995</td>\n",
       "      <td>51084</td>\n",
       "      <td>58024800</td>\n",
       "      <td>20305</td>\n",
       "      <td>328056</td>\n",
       "      <td>3564590</td>\n",
       "      <td>6.63</td>\n",
       "      <td>8.9</td>\n",
       "      <td>215037</td>\n",
       "    </tr>\n",
       "  </tbody>\n",
       "</table>\n",
       "</div>"
      ],
      "text/plain": [
       "      Year  price  population  dwelling     GDP  dwelling_stock  \\\n",
       "0  Q1 1994  51327    57862100     20139  317468         3666190   \n",
       "1  Q2 1994  51362    57862100     20139  321166         3666190   \n",
       "2  Q3 1994  51731    57862100     20139  324811         3666190   \n",
       "3  Q4 1994  52114    57862100     20139  326734         3666190   \n",
       "4  Q1 1995  51084    58024800     20305  328056         3564590   \n",
       "\n",
       "   mortgage_rate  unemployment_rate  Real_income  \n",
       "0           5.13                9.9       208676  \n",
       "1           5.33                9.7       208365  \n",
       "2           5.63                9.4       212502  \n",
       "3           6.13                9.0       211454  \n",
       "4           6.63                8.9       215037  "
      ]
     },
     "execution_count": 5,
     "metadata": {},
     "output_type": "execute_result"
    }
   ],
   "source": [
    "data = data.rename(columns={'House_price': 'price','Population': 'population', 'GDP(m)': 'GDP', 'dwelling stock': 'dwelling_stock'})\n",
    "data.head()"
   ]
  },
  {
   "cell_type": "markdown",
   "metadata": {},
   "source": [
    "`.isnull().sum()` is used for checking the number of empty blocks in each column and use `.count()` to get the total number of values. By dividing the total number in the corresponding columns with missing values, it gives the percentages of missing value. `.sort_values(ascending=False)` will put the result in descending order which is easy to see the worst column that contains most missing data."
   ]
  },
  {
   "cell_type": "code",
   "execution_count": 6,
   "metadata": {},
   "outputs": [
    {
     "data": {
      "text/html": [
       "<div>\n",
       "<style scoped>\n",
       "    .dataframe tbody tr th:only-of-type {\n",
       "        vertical-align: middle;\n",
       "    }\n",
       "\n",
       "    .dataframe tbody tr th {\n",
       "        vertical-align: top;\n",
       "    }\n",
       "\n",
       "    .dataframe thead th {\n",
       "        text-align: right;\n",
       "    }\n",
       "</style>\n",
       "<table border=\"1\" class=\"dataframe\">\n",
       "  <thead>\n",
       "    <tr style=\"text-align: right;\">\n",
       "      <th></th>\n",
       "      <th>Total</th>\n",
       "      <th>Percent</th>\n",
       "    </tr>\n",
       "  </thead>\n",
       "  <tbody>\n",
       "    <tr>\n",
       "      <th>Year</th>\n",
       "      <td>0</td>\n",
       "      <td>0.0</td>\n",
       "    </tr>\n",
       "    <tr>\n",
       "      <th>price</th>\n",
       "      <td>0</td>\n",
       "      <td>0.0</td>\n",
       "    </tr>\n",
       "    <tr>\n",
       "      <th>population</th>\n",
       "      <td>0</td>\n",
       "      <td>0.0</td>\n",
       "    </tr>\n",
       "    <tr>\n",
       "      <th>dwelling</th>\n",
       "      <td>0</td>\n",
       "      <td>0.0</td>\n",
       "    </tr>\n",
       "    <tr>\n",
       "      <th>GDP</th>\n",
       "      <td>0</td>\n",
       "      <td>0.0</td>\n",
       "    </tr>\n",
       "    <tr>\n",
       "      <th>dwelling_stock</th>\n",
       "      <td>0</td>\n",
       "      <td>0.0</td>\n",
       "    </tr>\n",
       "    <tr>\n",
       "      <th>mortgage_rate</th>\n",
       "      <td>0</td>\n",
       "      <td>0.0</td>\n",
       "    </tr>\n",
       "    <tr>\n",
       "      <th>unemployment_rate</th>\n",
       "      <td>0</td>\n",
       "      <td>0.0</td>\n",
       "    </tr>\n",
       "    <tr>\n",
       "      <th>Real_income</th>\n",
       "      <td>0</td>\n",
       "      <td>0.0</td>\n",
       "    </tr>\n",
       "  </tbody>\n",
       "</table>\n",
       "</div>"
      ],
      "text/plain": [
       "                   Total  Percent\n",
       "Year                   0      0.0\n",
       "price                  0      0.0\n",
       "population             0      0.0\n",
       "dwelling               0      0.0\n",
       "GDP                    0      0.0\n",
       "dwelling_stock         0      0.0\n",
       "mortgage_rate          0      0.0\n",
       "unemployment_rate      0      0.0\n",
       "Real_income            0      0.0"
      ]
     },
     "execution_count": 6,
     "metadata": {},
     "output_type": "execute_result"
    }
   ],
   "source": [
    "total = data.isnull().sum().sort_values(ascending=False)\n",
    "percent = (data.isnull().sum()/data.count()).sort_values(ascending=False)\n",
    "missing_data = pd.concat([total, percent], axis=1, keys=['Total', 'Percent'])\n",
    "missing_data.head(35)"
   ]
  },
  {
   "cell_type": "markdown",
   "metadata": {},
   "source": [
    "The `.max()` helps to find the maximum number of missing data which makes the column be considered to drop during the data cleaning."
   ]
  },
  {
   "cell_type": "code",
   "execution_count": 7,
   "metadata": {},
   "outputs": [
    {
     "data": {
      "text/plain": [
       "0"
      ]
     },
     "execution_count": 7,
     "metadata": {},
     "output_type": "execute_result"
    }
   ],
   "source": [
    "data.isnull().sum().max()"
   ]
  },
  {
   "cell_type": "markdown",
   "metadata": {},
   "source": [
    "In this case, there is no missing data, and the data is ready to move into the next stage. \n",
    "Now it is time to look into the data and see how the values distribute in each columns. Use `.describe()` to get the statistic values such as mean, standard deviation and the range of it."
   ]
  },
  {
   "cell_type": "code",
   "execution_count": 8,
   "metadata": {},
   "outputs": [
    {
     "data": {
      "text/html": [
       "<div>\n",
       "<style scoped>\n",
       "    .dataframe tbody tr th:only-of-type {\n",
       "        vertical-align: middle;\n",
       "    }\n",
       "\n",
       "    .dataframe tbody tr th {\n",
       "        vertical-align: top;\n",
       "    }\n",
       "\n",
       "    .dataframe thead th {\n",
       "        text-align: right;\n",
       "    }\n",
       "</style>\n",
       "<table border=\"1\" class=\"dataframe\">\n",
       "  <thead>\n",
       "    <tr style=\"text-align: right;\">\n",
       "      <th></th>\n",
       "      <th>price</th>\n",
       "      <th>population</th>\n",
       "      <th>dwelling</th>\n",
       "      <th>GDP</th>\n",
       "      <th>dwelling_stock</th>\n",
       "      <th>mortgage_rate</th>\n",
       "      <th>unemployment_rate</th>\n",
       "      <th>Real_income</th>\n",
       "    </tr>\n",
       "  </thead>\n",
       "  <tbody>\n",
       "    <tr>\n",
       "      <th>count</th>\n",
       "      <td>108.000000</td>\n",
       "      <td>1.080000e+02</td>\n",
       "      <td>108.000000</td>\n",
       "      <td>108.000000</td>\n",
       "      <td>1.080000e+02</td>\n",
       "      <td>108.000000</td>\n",
       "      <td>108.000000</td>\n",
       "      <td>108.000000</td>\n",
       "    </tr>\n",
       "    <tr>\n",
       "      <th>mean</th>\n",
       "      <td>142290.990741</td>\n",
       "      <td>6.183294e+07</td>\n",
       "      <td>21955.703704</td>\n",
       "      <td>444730.074074</td>\n",
       "      <td>2.296837e+06</td>\n",
       "      <td>5.490185</td>\n",
       "      <td>6.099074</td>\n",
       "      <td>295790.935185</td>\n",
       "    </tr>\n",
       "    <tr>\n",
       "      <th>std</th>\n",
       "      <td>56804.657450</td>\n",
       "      <td>3.093832e+06</td>\n",
       "      <td>1717.373017</td>\n",
       "      <td>63940.667671</td>\n",
       "      <td>7.241507e+05</td>\n",
       "      <td>1.273513</td>\n",
       "      <td>1.547533</td>\n",
       "      <td>47827.254735</td>\n",
       "    </tr>\n",
       "    <tr>\n",
       "      <th>min</th>\n",
       "      <td>50930.000000</td>\n",
       "      <td>5.786210e+07</td>\n",
       "      <td>15950.000000</td>\n",
       "      <td>317468.000000</td>\n",
       "      <td>1.583068e+06</td>\n",
       "      <td>3.620000</td>\n",
       "      <td>3.800000</td>\n",
       "      <td>208365.000000</td>\n",
       "    </tr>\n",
       "    <tr>\n",
       "      <th>25%</th>\n",
       "      <td>81521.500000</td>\n",
       "      <td>5.888610e+07</td>\n",
       "      <td>20927.000000</td>\n",
       "      <td>396169.500000</td>\n",
       "      <td>1.668683e+06</td>\n",
       "      <td>4.290000</td>\n",
       "      <td>4.975000</td>\n",
       "      <td>261115.250000</td>\n",
       "    </tr>\n",
       "    <tr>\n",
       "      <th>50%</th>\n",
       "      <td>162247.500000</td>\n",
       "      <td>6.131910e+07</td>\n",
       "      <td>22073.000000</td>\n",
       "      <td>459800.500000</td>\n",
       "      <td>1.987343e+06</td>\n",
       "      <td>5.545000</td>\n",
       "      <td>5.500000</td>\n",
       "      <td>306959.500000</td>\n",
       "    </tr>\n",
       "    <tr>\n",
       "      <th>75%</th>\n",
       "      <td>184734.250000</td>\n",
       "      <td>6.459680e+07</td>\n",
       "      <td>23236.000000</td>\n",
       "      <td>491801.500000</td>\n",
       "      <td>3.011995e+06</td>\n",
       "      <td>6.622500</td>\n",
       "      <td>7.800000</td>\n",
       "      <td>329007.750000</td>\n",
       "    </tr>\n",
       "    <tr>\n",
       "      <th>max</th>\n",
       "      <td>229819.000000</td>\n",
       "      <td>6.788601e+07</td>\n",
       "      <td>24414.000000</td>\n",
       "      <td>544733.000000</td>\n",
       "      <td>3.666190e+06</td>\n",
       "      <td>7.740000</td>\n",
       "      <td>9.900000</td>\n",
       "      <td>370990.000000</td>\n",
       "    </tr>\n",
       "  </tbody>\n",
       "</table>\n",
       "</div>"
      ],
      "text/plain": [
       "               price    population      dwelling            GDP  \\\n",
       "count     108.000000  1.080000e+02    108.000000     108.000000   \n",
       "mean   142290.990741  6.183294e+07  21955.703704  444730.074074   \n",
       "std     56804.657450  3.093832e+06   1717.373017   63940.667671   \n",
       "min     50930.000000  5.786210e+07  15950.000000  317468.000000   \n",
       "25%     81521.500000  5.888610e+07  20927.000000  396169.500000   \n",
       "50%    162247.500000  6.131910e+07  22073.000000  459800.500000   \n",
       "75%    184734.250000  6.459680e+07  23236.000000  491801.500000   \n",
       "max    229819.000000  6.788601e+07  24414.000000  544733.000000   \n",
       "\n",
       "       dwelling_stock  mortgage_rate  unemployment_rate    Real_income  \n",
       "count    1.080000e+02     108.000000         108.000000     108.000000  \n",
       "mean     2.296837e+06       5.490185           6.099074  295790.935185  \n",
       "std      7.241507e+05       1.273513           1.547533   47827.254735  \n",
       "min      1.583068e+06       3.620000           3.800000  208365.000000  \n",
       "25%      1.668683e+06       4.290000           4.975000  261115.250000  \n",
       "50%      1.987343e+06       5.545000           5.500000  306959.500000  \n",
       "75%      3.011995e+06       6.622500           7.800000  329007.750000  \n",
       "max      3.666190e+06       7.740000           9.900000  370990.000000  "
      ]
     },
     "execution_count": 8,
     "metadata": {},
     "output_type": "execute_result"
    }
   ],
   "source": [
    "data.describe()"
   ]
  },
  {
   "cell_type": "markdown",
   "metadata": {},
   "source": [
    "For more clear data visualisation, `.hist()` shows the data distribution for each determinants."
   ]
  },
  {
   "cell_type": "code",
   "execution_count": 9,
   "metadata": {},
   "outputs": [
    {
     "data": {
      "text/plain": [
       "array([[<AxesSubplot:title={'center':'price'}>,\n",
       "        <AxesSubplot:title={'center':'population'}>,\n",
       "        <AxesSubplot:title={'center':'dwelling'}>],\n",
       "       [<AxesSubplot:title={'center':'GDP'}>,\n",
       "        <AxesSubplot:title={'center':'dwelling_stock'}>,\n",
       "        <AxesSubplot:title={'center':'mortgage_rate'}>],\n",
       "       [<AxesSubplot:title={'center':'unemployment_rate'}>,\n",
       "        <AxesSubplot:title={'center':'Real_income'}>, <AxesSubplot:>]],\n",
       "      dtype=object)"
      ]
     },
     "execution_count": 9,
     "metadata": {},
     "output_type": "execute_result"
    },
    {
     "data": {
      "image/png": "[encoded data removed]",
      "text/plain": [
       "<Figure size 1800x1080 with 9 Axes>"
      ]
     },
     "metadata": {
      "needs_background": "light"
     },
     "output_type": "display_data"
    }
   ],
   "source": [
    "data.hist(figsize=(25,15))"
   ]
  },
  {
   "cell_type": "markdown",
   "metadata": {},
   "source": [
    "Using the `.boxplot()` from `matplotlib.pyplot()` package to visualise the range and quartiles of the numerical data."
   ]
  },
  {
   "cell_type": "code",
   "execution_count": 10,
   "metadata": {},
   "outputs": [
    {
     "data": {
      "image/png": "[encoded data removed]",
      "text/plain": [
       "<Figure size 1368x720 with 8 Axes>"
      ]
     },
     "metadata": {
      "needs_background": "light"
     },
     "output_type": "display_data"
    }
   ],
   "source": [
    "plt.figure(figsize=(19, 10))\n",
    "plt.subplot(241)\n",
    "plt.boxplot(data['price'], labels = ['price'])\n",
    "plt.subplot(242)\n",
    "plt.boxplot(data['population'], labels = ['population'])\n",
    "plt.subplot(243)\n",
    "plt.boxplot(data['dwelling'], labels = ['dwelling'])\n",
    "plt.subplot(244)\n",
    "plt.boxplot(data['GDP'], labels = ['GDP'])\n",
    "plt.subplot(245)\n",
    "plt.boxplot(data['dwelling_stock'], labels = ['dwelling_stock'])\n",
    "plt.subplot(246)\n",
    "plt.boxplot(data['mortgage_rate'], labels = ['mortgage_rate'])\n",
    "plt.subplot(247)\n",
    "plt.boxplot(data['unemployment_rate'], labels = ['unemployment_rate'])\n",
    "plt.subplot(248)\n",
    "plt.boxplot(data['Real_income'], labels = ['Real_income'])\n",
    "plt.show()"
   ]
  },
  {
   "cell_type": "markdown",
   "metadata": {},
   "source": [
    "Take a further step on visualisation, putting the determinants into the time series by `.plot()` from the same package above. And now the trends of all factors are obvious through the observation period."
   ]
  },
  {
   "cell_type": "code",
   "execution_count": 11,
   "metadata": {},
   "outputs": [
    {
     "data": {
      "image/png": "[encoded data removed]",
      "text/plain": [
       "<Figure size 1368x720 with 8 Axes>"
      ]
     },
     "metadata": {
      "needs_background": "light"
     },
     "output_type": "display_data"
    }
   ],
   "source": [
    "x=data['Year']\n",
    "y0=data['price']\n",
    "y1=data['population']\n",
    "y2=data['dwelling']\n",
    "y3=data['GDP']\n",
    "y4=data['dwelling_stock']\n",
    "y5=data['mortgage_rate']\n",
    "y6=data['unemployment_rate']\n",
    "y7=data['Real_income']\n",
    "\n",
    "\n",
    "plt.figure(figsize=(19, 10))\n",
    "plt.subplot(241)\n",
    "plt.plot(x, y0,label='price')\n",
    "plt.legend()\n",
    "plt.xlabel('Year')\n",
    "plt.subplot(242)\n",
    "plt.plot(x, y1,label='population')\n",
    "plt.legend()\n",
    "plt.xlabel('Year')\n",
    "plt.subplot(243)\n",
    "plt.plot(x, y2,label='dwelling')\n",
    "plt.legend()\n",
    "plt.xlabel('Year')\n",
    "plt.subplot(244)\n",
    "plt.plot(x, y3,label='GDP')\n",
    "plt.legend()\n",
    "plt.xlabel('Year')\n",
    "plt.subplot(245)\n",
    "plt.plot(x, y4,label='dwelling_stock')\n",
    "plt.legend()\n",
    "plt.xlabel('Year')\n",
    "plt.subplot(246)\n",
    "plt.plot(x, y5,label='mortgage_rate')\n",
    "plt.legend()\n",
    "plt.xlabel('Year')\n",
    "plt.subplot(247)\n",
    "plt.plot(x, y6,label='unemployment_rate')\n",
    "plt.legend()\n",
    "plt.xlabel('Year')\n",
    "plt.subplot(248)\n",
    "plt.plot(x, y7,label='Real_income')\n",
    "plt.legend()\n",
    "plt.xlabel('Year')\n",
    "plt.show()\n",
    "\n"
   ]
  },
  {
   "cell_type": "markdown",
   "metadata": {},
   "source": [
    "***\n",
    "<a id=\"ID_Method\"></a>\n",
    "| [1.0 Introduciton](#ID_intr) | [2.0 Lit. review](#ID_lit) | [3.0 Data Presentation](#ID_Data) | [4.0 Methodology](#ID_Method) | [5.0 Results](#ID_Results) | [6.0 Discussion](#ID_Discussion) | [7.0 Conclusion](#ID_Conclusion) | [Bibliography](#ID_Biblio) | [Appendix](#ID_Appendix) |\n",
    "\n",
    "## 4.0 | Methodology"
   ]
  },
  {
   "cell_type": "markdown",
   "metadata": {},
   "source": [
    "Since we want to find which factors have a more significant impact on the house price and seven independent determinants, therefore multiple linear regression is a good choice for the analysis.\n",
    "\n",
    "When doing regression, the first thing that needs to be considered is multicollinearity. The meaning of multicollinearity is the problem between two or more variables when their correlations are getting too high to affect the regression result and make it not reliable because the high correlation between variables explains that data contains similar information of variance within the dataset. This may be caused by the data collection method, insufficient data, incorrect dummy variables, including the combination of other variables or two identical variables (Stephanie, 2015). There are two ways to avoid multicollinearity, one is Variance Inflation Factor (VIF), and the other one is LASSO. Both of these two methods will filter the independent variables for the later multiple linear regression."
   ]
  },
  {
   "cell_type": "markdown",
   "metadata": {},
   "source": [
    "Firstly, a correlation matrix is helpful to visualise the correlation and check the multicollinearity between variables."
   ]
  },
  {
   "cell_type": "markdown",
   "metadata": {},
   "source": [
    "### Correlation\n",
    "Drop the `Year` column first, use `.drop()`, since it is not the variable we select in this case. And then plot the correlation matrix by the rest data."
   ]
  },
  {
   "cell_type": "code",
   "execution_count": 12,
   "metadata": {},
   "outputs": [
    {
     "data": {
      "text/plain": [
       "Text(0.5, 1.0, 'Correlation Matrix')"
      ]
     },
     "execution_count": 12,
     "metadata": {},
     "output_type": "execute_result"
    },
    {
     "data": {
      "image/png": "[encoded data removed]",
      "text/plain": [
       "<Figure size 1368x1080 with 2 Axes>"
      ]
     },
     "metadata": {
      "needs_background": "light"
     },
     "output_type": "display_data"
    }
   ],
   "source": [
    "data = data.drop(['Year'],axis = 1)\n",
    "df = data\n",
    "plt.rcParams[\"axes.grid\"] = False\n",
    "f = plt.figure(figsize=(19, 15))\n",
    "plt.matshow(df.corr(), fignum=f.number)\n",
    "plt.xticks(range(df.shape[1]), df.columns, fontsize=14, rotation=45)\n",
    "plt.yticks(range(df.shape[1]), df.columns, fontsize=14)\n",
    "cb = plt.colorbar()\n",
    "cb.ax.tick_params(labelsize=14)\n",
    "plt.title('Correlation Matrix', fontsize=16)"
   ]
  },
  {
   "cell_type": "markdown",
   "metadata": {},
   "source": [
    "### Stepwise regression\n",
    "Before filter the data with VIF or Lasso, it is also important to check the p-value for each factor. The stepwise regression is to do the stepwise selection first to select the factors with sufficient small p-value then do the regression with the selected variables. Here is the function of the `stepwise_selection`."
   ]
  },
  {
   "cell_type": "code",
   "execution_count": 13,
   "metadata": {},
   "outputs": [],
   "source": [
    "import statsmodels.api as sm\n",
    "import statsmodels.formula.api as smf\n",
    "def stepwise_selection(X, y, \n",
    "                           initial_list=[], \n",
    "                           threshold_in=0.01, \n",
    "                           threshold_out = 0.05, \n",
    "                           verbose=True):\n",
    "        \"\"\" Perform a forward-backward feature selection \n",
    "        based on p-value from statsmodels.api.OLS\n",
    "        Arguments:\n",
    "            X - pandas.DataFrame with candidate features\n",
    "            y - list-like with the target\n",
    "            initial_list - list of features to start with (column names of X)\n",
    "            threshold_in - include a feature if its p-value < threshold_in\n",
    "            threshold_out - exclude a feature if its p-value > threshold_out\n",
    "            verbose - whether to print the sequence of inclusions and exclusions\n",
    "        Returns: list of selected features \n",
    "        Always set threshold_in < threshold_out to avoid infinite looping.\n",
    "        See https://en.wikipedia.org/wiki/Stepwise_regression for the details\n",
    "        \"\"\"\n",
    "        included = list(initial_list)\n",
    "        while True:\n",
    "            changed=False\n",
    "            # forward step\n",
    "            excluded = list(set(X.columns)-set(included))\n",
    "            new_pval = pd.Series(index=excluded)\n",
    "            for new_column in excluded:\n",
    "                model = sm.OLS(y, sm.add_constant(pd.DataFrame(X[included+[new_column]]))).fit()\n",
    "                new_pval[new_column] = model.pvalues[new_column]\n",
    "            best_pval = new_pval.min()\n",
    "            if best_pval < threshold_in:\n",
    "                best_feature = new_pval.idxmin()\n",
    "                included.append(best_feature)\n",
    "                changed=True\n",
    "                if verbose:\n",
    "                    print('Add  {:30} with p-value {:.6}'.format(best_feature, best_pval))\n",
    "\n",
    "            # backward step\n",
    "            model = sm.OLS(y, sm.add_constant(pd.DataFrame(X[included]))).fit()\n",
    "            # use all coefs except intercept\n",
    "            pvalues = model.pvalues.iloc[1:]\n",
    "            worst_pval = pvalues.max() # null if pvalues is empty\n",
    "            if worst_pval > threshold_out:\n",
    "                changed=True\n",
    "                worst_feature = pvalues.idxmax()\n",
    "                included.remove(worst_feature)\n",
    "                if verbose:\n",
    "                    print('Drop {:30} with p-value {:.6}'.format(worst_feature, worst_pval))\n",
    "            if not changed:\n",
    "                break\n",
    "        return included"
   ]
  },
  {
   "cell_type": "markdown",
   "metadata": {},
   "source": [
    "Now separate the data into predictors data (independent variables) and response data (dependent variable). Then do the stepwise selection."
   ]
  },
  {
   "cell_type": "code",
   "execution_count": 14,
   "metadata": {},
   "outputs": [
    {
     "name": "stdout",
     "output_type": "stream",
     "text": [
      "Add  Real_income                    with p-value 7.91535e-78\n",
      "Add  dwelling_stock                 with p-value 5.53285e-06\n",
      "Add  mortgage_rate                  with p-value 0.000182488\n",
      "Add  dwelling                       with p-value 0.012535\n",
      "The predictors that are selected by stepwise regression are:\n",
      "['Real_income', 'dwelling_stock', 'mortgage_rate', 'dwelling']\n"
     ]
    },
    {
     "name": "stderr",
     "output_type": "stream",
     "text": [
      "<ipython-input-13-e410ad27e6f3>:26: DeprecationWarning: The default dtype for empty Series will be 'object' instead of 'float64' in a future version. Specify a dtype explicitly to silence this warning.\n",
      "  new_pval = pd.Series(index=excluded)\n",
      "<ipython-input-13-e410ad27e6f3>:26: DeprecationWarning: The default dtype for empty Series will be 'object' instead of 'float64' in a future version. Specify a dtype explicitly to silence this warning.\n",
      "  new_pval = pd.Series(index=excluded)\n",
      "<ipython-input-13-e410ad27e6f3>:26: DeprecationWarning: The default dtype for empty Series will be 'object' instead of 'float64' in a future version. Specify a dtype explicitly to silence this warning.\n",
      "  new_pval = pd.Series(index=excluded)\n",
      "<ipython-input-13-e410ad27e6f3>:26: DeprecationWarning: The default dtype for empty Series will be 'object' instead of 'float64' in a future version. Specify a dtype explicitly to silence this warning.\n",
      "  new_pval = pd.Series(index=excluded)\n",
      "<ipython-input-13-e410ad27e6f3>:26: DeprecationWarning: The default dtype for empty Series will be 'object' instead of 'float64' in a future version. Specify a dtype explicitly to silence this warning.\n",
      "  new_pval = pd.Series(index=excluded)\n"
     ]
    }
   ],
   "source": [
    "predictors_data = data.drop(columns=['price'], axis=1)\n",
    "response_data = data['price']\n",
    "list_predictor_select_stepwise = stepwise_selection(X=predictors_data, y=response_data,initial_list=[], \n",
    "                           threshold_in=0.03, \n",
    "                           threshold_out = 0.05, \n",
    "                           verbose=True)\n",
    "print(\"The predictors that are selected by stepwise regression are:\")\n",
    "print(list_predictor_select_stepwise)"
   ]
  },
  {
   "cell_type": "markdown",
   "metadata": {},
   "source": [
    "From the result above, `Real_income`, `dwelling_stock`,`mortgage_rate`, `dwelling` has sufficient small p-value which is significant enough to apply in the multiple linear regression. Use `statsmodels.api.OLS()` to do the regression with 4 selected variables and print out the result through `.summary()`."
   ]
  },
  {
   "cell_type": "code",
   "execution_count": 15,
   "metadata": {},
   "outputs": [
    {
     "data": {
      "text/html": [
       "<table class=\"simpletable\">\n",
       "<caption>OLS Regression Results</caption>\n",
       "<tr>\n",
       "  <th>Dep. Variable:</th>          <td>price</td>      <th>  R-squared:         </th> <td>   0.975</td>\n",
       "</tr>\n",
       "<tr>\n",
       "  <th>Model:</th>                   <td>OLS</td>       <th>  Adj. R-squared:    </th> <td>   0.974</td>\n",
       "</tr>\n",
       "<tr>\n",
       "  <th>Method:</th>             <td>Least Squares</td>  <th>  F-statistic:       </th> <td>   1011.</td>\n",
       "</tr>\n",
       "<tr>\n",
       "  <th>Date:</th>             <td>Wed, 21 Apr 2021</td> <th>  Prob (F-statistic):</th> <td>1.14e-81</td>\n",
       "</tr>\n",
       "<tr>\n",
       "  <th>Time:</th>                 <td>16:00:31</td>     <th>  Log-Likelihood:    </th> <td> -1135.5</td>\n",
       "</tr>\n",
       "<tr>\n",
       "  <th>No. Observations:</th>      <td>   108</td>      <th>  AIC:               </th> <td>   2281.</td>\n",
       "</tr>\n",
       "<tr>\n",
       "  <th>Df Residuals:</th>          <td>   103</td>      <th>  BIC:               </th> <td>   2294.</td>\n",
       "</tr>\n",
       "<tr>\n",
       "  <th>Df Model:</th>              <td>     4</td>      <th>                     </th>     <td> </td>   \n",
       "</tr>\n",
       "<tr>\n",
       "  <th>Covariance Type:</th>      <td>nonrobust</td>    <th>                     </th>     <td> </td>   \n",
       "</tr>\n",
       "</table>\n",
       "<table class=\"simpletable\">\n",
       "<tr>\n",
       "         <td></td>           <th>coef</th>     <th>std err</th>      <th>t</th>      <th>P>|t|</th>  <th>[0.025</th>    <th>0.975]</th>  \n",
       "</tr>\n",
       "<tr>\n",
       "  <th>Intercept</th>      <td>-1.895e+04</td> <td> 3.86e+04</td> <td>   -0.491</td> <td> 0.625</td> <td>-9.55e+04</td> <td> 5.76e+04</td>\n",
       "</tr>\n",
       "<tr>\n",
       "  <th>Real_income</th>    <td>    0.8235</td> <td>    0.073</td> <td>   11.209</td> <td> 0.000</td> <td>    0.678</td> <td>    0.969</td>\n",
       "</tr>\n",
       "<tr>\n",
       "  <th>dwelling_stock</th> <td>   -0.0301</td> <td>    0.005</td> <td>   -6.019</td> <td> 0.000</td> <td>   -0.040</td> <td>   -0.020</td>\n",
       "</tr>\n",
       "<tr>\n",
       "  <th>mortgage_rate</th>  <td> 3872.8773</td> <td>  946.139</td> <td>    4.093</td> <td> 0.000</td> <td> 1996.434</td> <td> 5749.321</td>\n",
       "</tr>\n",
       "<tr>\n",
       "  <th>dwelling</th>       <td>   -1.5758</td> <td>    0.620</td> <td>   -2.541</td> <td> 0.013</td> <td>   -2.806</td> <td>   -0.346</td>\n",
       "</tr>\n",
       "</table>\n",
       "<table class=\"simpletable\">\n",
       "<tr>\n",
       "  <th>Omnibus:</th>       <td> 2.673</td> <th>  Durbin-Watson:     </th> <td>   0.185</td>\n",
       "</tr>\n",
       "<tr>\n",
       "  <th>Prob(Omnibus):</th> <td> 0.263</td> <th>  Jarque-Bera (JB):  </th> <td>   2.389</td>\n",
       "</tr>\n",
       "<tr>\n",
       "  <th>Skew:</th>          <td>-0.364</td> <th>  Prob(JB):          </th> <td>   0.303</td>\n",
       "</tr>\n",
       "<tr>\n",
       "  <th>Kurtosis:</th>      <td> 3.018</td> <th>  Cond. No.          </th> <td>1.07e+08</td>\n",
       "</tr>\n",
       "</table><br/><br/>Notes:<br/>[1] Standard Errors assume that the covariance matrix of the errors is correctly specified.<br/>[2] The condition number is large, 1.07e+08. This might indicate that there are<br/>strong multicollinearity or other numerical problems."
      ],
      "text/plain": [
       "<class 'statsmodels.iolib.summary.Summary'>\n",
       "\"\"\"\n",
       "                            OLS Regression Results                            \n",
       "==============================================================================\n",
       "Dep. Variable:                  price   R-squared:                       0.975\n",
       "Model:                            OLS   Adj. R-squared:                  0.974\n",
       "Method:                 Least Squares   F-statistic:                     1011.\n",
       "Date:                Wed, 21 Apr 2021   Prob (F-statistic):           1.14e-81\n",
       "Time:                        16:00:31   Log-Likelihood:                -1135.5\n",
       "No. Observations:                 108   AIC:                             2281.\n",
       "Df Residuals:                     103   BIC:                             2294.\n",
       "Df Model:                           4                                         \n",
       "Covariance Type:            nonrobust                                         \n",
       "==================================================================================\n",
       "                     coef    std err          t      P>|t|      [0.025      0.975]\n",
       "----------------------------------------------------------------------------------\n",
       "Intercept      -1.895e+04   3.86e+04     -0.491      0.625   -9.55e+04    5.76e+04\n",
       "Real_income        0.8235      0.073     11.209      0.000       0.678       0.969\n",
       "dwelling_stock    -0.0301      0.005     -6.019      0.000      -0.040      -0.020\n",
       "mortgage_rate   3872.8773    946.139      4.093      0.000    1996.434    5749.321\n",
       "dwelling          -1.5758      0.620     -2.541      0.013      -2.806      -0.346\n",
       "==============================================================================\n",
       "Omnibus:                        2.673   Durbin-Watson:                   0.185\n",
       "Prob(Omnibus):                  0.263   Jarque-Bera (JB):                2.389\n",
       "Skew:                          -0.364   Prob(JB):                        0.303\n",
       "Kurtosis:                       3.018   Cond. No.                     1.07e+08\n",
       "==============================================================================\n",
       "\n",
       "Notes:\n",
       "[1] Standard Errors assume that the covariance matrix of the errors is correctly specified.\n",
       "[2] The condition number is large, 1.07e+08. This might indicate that there are\n",
       "strong multicollinearity or other numerical problems.\n",
       "\"\"\""
      ]
     },
     "execution_count": 15,
     "metadata": {},
     "output_type": "execute_result"
    }
   ],
   "source": [
    "multi_regression_model_1 = smf.ols(formula='price ~ Real_income+dwelling_stock+mortgage_rate+dwelling',data=data).fit()\n",
    "multi_regression_model_1.summary()"
   ]
  },
  {
   "cell_type": "markdown",
   "metadata": {},
   "source": [
    "### VIF\n",
    "The Variance Inflation Factor (VIF) is a measure of multicollinearity in the multiple regression task. It is the quotient of the variance in a model with multiple predictors by the variance of a model with a single predictor. This is a necessary step to drop the VIF which contains high degree of correlation with the rest columns in the dataset. Higher the value of VIF reflects more serious multicollinearity between the independent variables; and the correlation problem between determinants will be less serious if the value of VIF is less than 10. Therefore, set the `threshhold` as 10 and run the `calculate_vif_` function below."
   ]
  },
  {
   "cell_type": "code",
   "execution_count": 16,
   "metadata": {},
   "outputs": [],
   "source": [
    "from statsmodels.stats.outliers_influence import variance_inflation_factor \n",
    "from statsmodels.tools.tools import add_constant\n",
    "\n",
    "def calculate_vif_(df, thresh=10):\n",
    "    '''\n",
    "    Calculates VIF each feature in a pandas dataframe\n",
    "    A constant must be added to variance_inflation_factor or the results will be incorrect\n",
    "\n",
    "    :param df: the pandas dataframe containing only the predictor features, not the response variable\n",
    "    :param thresh: the max VIF value before the feature is removed from the dataframe\n",
    "    :return: dataframe with features removed\n",
    "    '''\n",
    "    const = add_constant(df)\n",
    "    cols = const.columns\n",
    "    variables = np.arange(const.shape[1])\n",
    "    vif_df = pd.Series([variance_inflation_factor(const.values, i) \n",
    "               for i in range(const.shape[1])], \n",
    "              index=const.columns).to_frame()\n",
    "\n",
    "    vif_df = vif_df.sort_values(by=0, ascending=False).rename(columns={0: 'VIF'})\n",
    "    vif_df = vif_df.drop('const')\n",
    "    vif_df = vif_df[vif_df['VIF'] > thresh]\n",
    "\n",
    "    print ('Features above VIF threshold:\\n')\n",
    "    print (vif_df[vif_df['VIF'] > thresh])\n",
    "\n",
    "    col_to_drop = list(vif_df.index)\n",
    "\n",
    "    for i in col_to_drop:\n",
    "        print ('Dropping: {}'.format(i))\n",
    "        df = df.drop(columns=i)\n",
    "\n",
    "    return df"
   ]
  },
  {
   "cell_type": "markdown",
   "metadata": {},
   "source": [
    "Input all the independent variables in to the VIF function."
   ]
  },
  {
   "cell_type": "code",
   "execution_count": 17,
   "metadata": {},
   "outputs": [
    {
     "name": "stdout",
     "output_type": "stream",
     "text": [
      "Features above VIF threshold:\n",
      "\n",
      "                       VIF\n",
      "Real_income     115.860356\n",
      "GDP              66.703567\n",
      "dwelling_stock   38.329556\n",
      "population       26.146229\n",
      "Dropping: Real_income\n",
      "Dropping: GDP\n",
      "Dropping: dwelling_stock\n",
      "Dropping: population\n",
      "The columns remaining after VIF selection are:\n",
      "Index(['dwelling', 'mortgage_rate', 'unemployment_rate'], dtype='object')\n"
     ]
    }
   ],
   "source": [
    "df_predictors_select_VIF = calculate_vif_(predictors_data)\n",
    "print(\"The columns remaining after VIF selection are:\")\n",
    "print(df_predictors_select_VIF.columns)\n"
   ]
  },
  {
   "cell_type": "markdown",
   "metadata": {},
   "source": [
    "After the VIF calculation, 3 variables are selected. Now do the multiple linear regression with selected variables and again use `.summary()` to print out the result."
   ]
  },
  {
   "cell_type": "code",
   "execution_count": 18,
   "metadata": {},
   "outputs": [
    {
     "data": {
      "text/html": [
       "<table class=\"simpletable\">\n",
       "<caption>OLS Regression Results</caption>\n",
       "<tr>\n",
       "  <th>Dep. Variable:</th>          <td>price</td>      <th>  R-squared:         </th> <td>   0.737</td>\n",
       "</tr>\n",
       "<tr>\n",
       "  <th>Model:</th>                   <td>OLS</td>       <th>  Adj. R-squared:    </th> <td>   0.729</td>\n",
       "</tr>\n",
       "<tr>\n",
       "  <th>Method:</th>             <td>Least Squares</td>  <th>  F-statistic:       </th> <td>   97.16</td>\n",
       "</tr>\n",
       "<tr>\n",
       "  <th>Date:</th>             <td>Wed, 21 Apr 2021</td> <th>  Prob (F-statistic):</th> <td>4.84e-30</td>\n",
       "</tr>\n",
       "<tr>\n",
       "  <th>Time:</th>                 <td>16:00:31</td>     <th>  Log-Likelihood:    </th> <td> -1262.9</td>\n",
       "</tr>\n",
       "<tr>\n",
       "  <th>No. Observations:</th>      <td>   108</td>      <th>  AIC:               </th> <td>   2534.</td>\n",
       "</tr>\n",
       "<tr>\n",
       "  <th>Df Residuals:</th>          <td>   104</td>      <th>  BIC:               </th> <td>   2545.</td>\n",
       "</tr>\n",
       "<tr>\n",
       "  <th>Df Model:</th>              <td>     3</td>      <th>                     </th>     <td> </td>   \n",
       "</tr>\n",
       "<tr>\n",
       "  <th>Covariance Type:</th>      <td>nonrobust</td>    <th>                     </th>     <td> </td>   \n",
       "</tr>\n",
       "</table>\n",
       "<table class=\"simpletable\">\n",
       "<tr>\n",
       "          <td></td>             <th>coef</th>     <th>std err</th>      <th>t</th>      <th>P>|t|</th>  <th>[0.025</th>    <th>0.975]</th>  \n",
       "</tr>\n",
       "<tr>\n",
       "  <th>const</th>             <td> 2.561e+05</td> <td> 4.87e+04</td> <td>    5.256</td> <td> 0.000</td> <td> 1.59e+05</td> <td> 3.53e+05</td>\n",
       "</tr>\n",
       "<tr>\n",
       "  <th>dwelling</th>          <td>    6.7836</td> <td>    1.782</td> <td>    3.807</td> <td> 0.000</td> <td>    3.250</td> <td>   10.317</td>\n",
       "</tr>\n",
       "<tr>\n",
       "  <th>mortgage_rate</th>     <td>-2.651e+04</td> <td> 2382.262</td> <td>  -11.126</td> <td> 0.000</td> <td>-3.12e+04</td> <td>-2.18e+04</td>\n",
       "</tr>\n",
       "<tr>\n",
       "  <th>unemployment_rate</th> <td>-1.922e+04</td> <td> 1879.437</td> <td>  -10.228</td> <td> 0.000</td> <td>-2.29e+04</td> <td>-1.55e+04</td>\n",
       "</tr>\n",
       "</table>\n",
       "<table class=\"simpletable\">\n",
       "<tr>\n",
       "  <th>Omnibus:</th>       <td>10.578</td> <th>  Durbin-Watson:     </th> <td>   0.130</td>\n",
       "</tr>\n",
       "<tr>\n",
       "  <th>Prob(Omnibus):</th> <td> 0.005</td> <th>  Jarque-Bera (JB):  </th> <td>  10.720</td>\n",
       "</tr>\n",
       "<tr>\n",
       "  <th>Skew:</th>          <td> 0.737</td> <th>  Prob(JB):          </th> <td> 0.00470</td>\n",
       "</tr>\n",
       "<tr>\n",
       "  <th>Kurtosis:</th>      <td> 3.459</td> <th>  Cond. No.          </th> <td>3.78e+05</td>\n",
       "</tr>\n",
       "</table><br/><br/>Notes:<br/>[1] Standard Errors assume that the covariance matrix of the errors is correctly specified.<br/>[2] The condition number is large, 3.78e+05. This might indicate that there are<br/>strong multicollinearity or other numerical problems."
      ],
      "text/plain": [
       "<class 'statsmodels.iolib.summary.Summary'>\n",
       "\"\"\"\n",
       "                            OLS Regression Results                            \n",
       "==============================================================================\n",
       "Dep. Variable:                  price   R-squared:                       0.737\n",
       "Model:                            OLS   Adj. R-squared:                  0.729\n",
       "Method:                 Least Squares   F-statistic:                     97.16\n",
       "Date:                Wed, 21 Apr 2021   Prob (F-statistic):           4.84e-30\n",
       "Time:                        16:00:31   Log-Likelihood:                -1262.9\n",
       "No. Observations:                 108   AIC:                             2534.\n",
       "Df Residuals:                     104   BIC:                             2545.\n",
       "Df Model:                           3                                         \n",
       "Covariance Type:            nonrobust                                         \n",
       "=====================================================================================\n",
       "                        coef    std err          t      P>|t|      [0.025      0.975]\n",
       "-------------------------------------------------------------------------------------\n",
       "const              2.561e+05   4.87e+04      5.256      0.000    1.59e+05    3.53e+05\n",
       "dwelling              6.7836      1.782      3.807      0.000       3.250      10.317\n",
       "mortgage_rate     -2.651e+04   2382.262    -11.126      0.000   -3.12e+04   -2.18e+04\n",
       "unemployment_rate -1.922e+04   1879.437    -10.228      0.000   -2.29e+04   -1.55e+04\n",
       "==============================================================================\n",
       "Omnibus:                       10.578   Durbin-Watson:                   0.130\n",
       "Prob(Omnibus):                  0.005   Jarque-Bera (JB):               10.720\n",
       "Skew:                           0.737   Prob(JB):                      0.00470\n",
       "Kurtosis:                       3.459   Cond. No.                     3.78e+05\n",
       "==============================================================================\n",
       "\n",
       "Notes:\n",
       "[1] Standard Errors assume that the covariance matrix of the errors is correctly specified.\n",
       "[2] The condition number is large, 3.78e+05. This might indicate that there are\n",
       "strong multicollinearity or other numerical problems.\n",
       "\"\"\""
      ]
     },
     "execution_count": 18,
     "metadata": {},
     "output_type": "execute_result"
    }
   ],
   "source": [
    "from sklearn.linear_model import LinearRegression\n",
    "lr = LinearRegression()\n",
    "lr.fit(X=df_predictors_select_VIF, y=response_data)\n",
    "\n",
    "regressor_OLS = sm.OLS(endog=response_data, exog=sm.add_constant(df_predictors_select_VIF)).fit()\n",
    "regressor_OLS.summary()"
   ]
  },
  {
   "cell_type": "markdown",
   "metadata": {},
   "source": [
    "### Lasso\n",
    "Least absolute shrinkage and selection operator (Lasso) is a regression method that performs both variable selection and regularisation (or penalty). By using Lasso to filter data, the linear regression model will gain a higher accuracy on prediction and interpretability. In Lasso, the lambda (or alpha) parameter controls the strength of regularisation. Run the Lasso function by using `.Lasso()` in the `sklearn` packages (alpha=1 as default)."
   ]
  },
  {
   "cell_type": "code",
   "execution_count": 19,
   "metadata": {},
   "outputs": [
    {
     "data": {
      "text/plain": [
       "Lasso(max_iter=1000000000.0, normalize=True, tol=0.01)"
      ]
     },
     "execution_count": 19,
     "metadata": {},
     "output_type": "execute_result"
    }
   ],
   "source": [
    "from sklearn import linear_model\n",
    "lasso_model = linear_model.Lasso(max_iter=10e8, tol=0.01, normalize=True)\n",
    "lasso_model.fit(X=predictors_data, y=response_data)"
   ]
  },
  {
   "cell_type": "markdown",
   "metadata": {},
   "source": [
    "Here is the score of the lasso model after the regression."
   ]
  },
  {
   "cell_type": "code",
   "execution_count": 20,
   "metadata": {},
   "outputs": [
    {
     "data": {
      "text/plain": [
       "0.9758363789651879"
      ]
     },
     "execution_count": 20,
     "metadata": {},
     "output_type": "execute_result"
    }
   ],
   "source": [
    "lasso_model.score(X=predictors_data, y=response_data)"
   ]
  },
  {
   "cell_type": "markdown",
   "metadata": {},
   "source": [
    "And print out the coefficients of the variables."
   ]
  },
  {
   "cell_type": "code",
   "execution_count": 21,
   "metadata": {},
   "outputs": [
    {
     "name": "stdout",
     "output_type": "stream",
     "text": [
      "                 var         coef\n",
      "0         population     0.002060\n",
      "1           dwelling    -2.445227\n",
      "2                GDP     0.174455\n",
      "3     dwelling_stock    -0.037045\n",
      "4      mortgage_rate  3214.659079\n",
      "5  unemployment_rate  -729.029853\n",
      "6        Real_income     0.357165\n"
     ]
    }
   ],
   "source": [
    "df_coef_lasso = pd.DataFrame({\"var\": predictors_data.columns.values, \"coef\":lasso_model.coef_})\n",
    "print(df_coef_lasso)"
   ]
  },
  {
   "cell_type": "markdown",
   "metadata": {},
   "source": [
    "Apply the Lasso regression with a range of lambda parameters, and see how the coefficients change with the lambda value. The plot is called `LASSO Path`."
   ]
  },
  {
   "cell_type": "code",
   "execution_count": 22,
   "metadata": {},
   "outputs": [
    {
     "name": "stderr",
     "output_type": "stream",
     "text": [
      "C:\\Users\\gavin\\anaconda3\\envs\\python\\lib\\site-packages\\sklearn\\linear_model\\_coordinate_descent.py:526: ConvergenceWarning: Objective did not converge. You might want to increase the number of iterations. Duality gap: 1615473214.2092285, tolerance: 253191070.7529\n",
      "  model = cd_fast.enet_coordinate_descent_gram(\n",
      "C:\\Users\\gavin\\anaconda3\\envs\\python\\lib\\site-packages\\sklearn\\linear_model\\_coordinate_descent.py:526: ConvergenceWarning: Objective did not converge. You might want to increase the number of iterations. Duality gap: 2341295681.5967674, tolerance: 253191070.7529\n",
      "  model = cd_fast.enet_coordinate_descent_gram(\n",
      "C:\\Users\\gavin\\anaconda3\\envs\\python\\lib\\site-packages\\sklearn\\linear_model\\_coordinate_descent.py:526: ConvergenceWarning: Objective did not converge. You might want to increase the number of iterations. Duality gap: 3727371422.7055373, tolerance: 253191070.7529\n",
      "  model = cd_fast.enet_coordinate_descent_gram(\n",
      "C:\\Users\\gavin\\anaconda3\\envs\\python\\lib\\site-packages\\sklearn\\linear_model\\_coordinate_descent.py:526: ConvergenceWarning: Objective did not converge. You might want to increase the number of iterations. Duality gap: 4136379552.361088, tolerance: 253191070.7529\n",
      "  model = cd_fast.enet_coordinate_descent_gram(\n",
      "C:\\Users\\gavin\\anaconda3\\envs\\python\\lib\\site-packages\\sklearn\\linear_model\\_coordinate_descent.py:526: ConvergenceWarning: Objective did not converge. You might want to increase the number of iterations. Duality gap: 4154341284.7892194, tolerance: 253191070.7529\n",
      "  model = cd_fast.enet_coordinate_descent_gram(\n",
      "C:\\Users\\gavin\\anaconda3\\envs\\python\\lib\\site-packages\\sklearn\\linear_model\\_coordinate_descent.py:526: ConvergenceWarning: Objective did not converge. You might want to increase the number of iterations. Duality gap: 4176460030.3744736, tolerance: 253191070.7529\n",
      "  model = cd_fast.enet_coordinate_descent_gram(\n"
     ]
    },
    {
     "data": {
      "text/plain": [
       "(-1.3, 5.3, -29677.255216496535, 23350.672933692364)"
      ]
     },
     "execution_count": 22,
     "metadata": {},
     "output_type": "execute_result"
    },
    {
     "data": {
      "image/png": "[encoded data removed]",
      "text/plain": [
       "<Figure size 432x288 with 1 Axes>"
      ]
     },
     "metadata": {
      "needs_background": "light"
     },
     "output_type": "display_data"
    }
   ],
   "source": [
    "from itertools import cycle\n",
    "from sklearn.linear_model import lasso_path\n",
    "predictors_data_standardised = predictors_data/predictors_data.std(axis=0)\n",
    "alphas_lasso, coefs_lasso, _ = lasso_path(predictors_data_standardised, response_data.values.reshape(-2),alphas = [.1, .5, 1, 10, 100, 1000, 100000], fit_intercept=False)\n",
    "log_alphas_lasso = np.log10(alphas_lasso)\n",
    "for coef_l in coefs_lasso:\n",
    "     ll = plt.plot(log_alphas_lasso, coef_l)\n",
    "plt.xlabel('Log(alpha)')\n",
    "plt.ylabel('coefficients')\n",
    "plt.title('Lasso Path')\n",
    "plt.axis('tight')"
   ]
  },
  {
   "cell_type": "markdown",
   "metadata": {},
   "source": [
    "The result seems not good since the warning is telling that `Objective did not converge`. As noticed there are values keep increasing even enlarge the number of iterations. Therefore, removing independent variables is needed. In this case we drop `Real_income` and `GDP`."
   ]
  },
  {
   "cell_type": "code",
   "execution_count": 23,
   "metadata": {},
   "outputs": [
    {
     "data": {
      "text/plain": [
       "Lasso(max_iter=1000000000.0, normalize=True, tol=0.01)"
      ]
     },
     "execution_count": 23,
     "metadata": {},
     "output_type": "execute_result"
    }
   ],
   "source": [
    "predictors_data_new = predictors_data.drop(['Real_income','GDP'], axis=1)\n",
    "lasso_model.fit(X=predictors_data_new, y=response_data)"
   ]
  },
  {
   "cell_type": "markdown",
   "metadata": {},
   "source": [
    "Run Lasso model again and get the new score."
   ]
  },
  {
   "cell_type": "code",
   "execution_count": 24,
   "metadata": {},
   "outputs": [
    {
     "data": {
      "text/plain": [
       "0.9728263117922002"
      ]
     },
     "execution_count": 24,
     "metadata": {},
     "output_type": "execute_result"
    }
   ],
   "source": [
    "lasso_model.score(X=predictors_data_new, y=response_data)"
   ]
  },
  {
   "cell_type": "markdown",
   "metadata": {},
   "source": [
    "Print the new coefficient values and plot the `Lasso Path` again."
   ]
  },
  {
   "cell_type": "code",
   "execution_count": 25,
   "metadata": {},
   "outputs": [
    {
     "name": "stdout",
     "output_type": "stream",
     "text": [
      "                 var         coef\n",
      "0         population     0.005945\n",
      "1           dwelling    -1.081849\n",
      "2     dwelling_stock    -0.056522\n",
      "3      mortgage_rate  4012.459828\n",
      "4  unemployment_rate -3454.756737\n"
     ]
    },
    {
     "data": {
      "text/plain": [
       "(-1.45, 8.45, -45356.12256812138, 18588.460376394825)"
      ]
     },
     "execution_count": 25,
     "metadata": {},
     "output_type": "execute_result"
    },
    {
     "data": {
      "image/png": "[encoded data removed]",
      "text/plain": [
       "<Figure size 432x288 with 1 Axes>"
      ]
     },
     "metadata": {
      "needs_background": "light"
     },
     "output_type": "display_data"
    }
   ],
   "source": [
    "df_coef_lasso = pd.DataFrame({\"var\": predictors_data_new.columns.values, \"coef\":lasso_model.coef_})\n",
    "print(df_coef_lasso)\n",
    "predictors_data_standardised = predictors_data_new/predictors_data_new.std(axis=0)\n",
    "alphas_lasso, coefs_lasso, _ = lasso_path(predictors_data_standardised, response_data.values.reshape(-2),alphas = [.1, .5, 1, 10, 100, 1000, 100000, 100000000], fit_intercept=False)\n",
    "log_alphas_lasso = np.log10(alphas_lasso)\n",
    "for coef_l in coefs_lasso:\n",
    "     ll = plt.plot(log_alphas_lasso, coef_l)\n",
    "plt.xlabel('Log(alpha)')\n",
    "plt.ylabel('coefficients')\n",
    "plt.title('Lasso Path')\n",
    "plt.axis('tight')"
   ]
  },
  {
   "cell_type": "markdown",
   "metadata": {},
   "source": [
    "This time the Lasso Path is converged and seems much better than the previous one."
   ]
  },
  {
   "cell_type": "markdown",
   "metadata": {},
   "source": [
    "### Random forest\n",
    "With the advanced regression, Machine learning is needed in this stage. And Random Forest is a Supervised learning algorithm based on the ensemble learning method and many Decision Trees. Since this regression is not time series problem, it is a good fit for using Random forest.\n",
    "\n",
    "Now start with separating the data into independent`X` and dependent `y` variables, and check the shape of them."
   ]
  },
  {
   "cell_type": "code",
   "execution_count": 26,
   "metadata": {},
   "outputs": [
    {
     "name": "stdout",
     "output_type": "stream",
     "text": [
      "(108, 7)\n",
      "(108,)\n"
     ]
    }
   ],
   "source": [
    "X = data.drop(['price'], axis=1)\n",
    "y = data['price']\n",
    "print(X.shape)\n",
    "print(y.shape)"
   ]
  },
  {
   "cell_type": "markdown",
   "metadata": {},
   "source": [
    "Use `train_test_split()` from `sklearn.model_selection` package to split the data into train, validation and test sets. Check the size of them."
   ]
  },
  {
   "cell_type": "code",
   "execution_count": 27,
   "metadata": {},
   "outputs": [
    {
     "name": "stdout",
     "output_type": "stream",
     "text": [
      "(75, 7)\n",
      "(16, 7)\n",
      "(17, 7)\n"
     ]
    }
   ],
   "source": [
    "from sklearn.model_selection import train_test_split\n",
    "X_train, X_test, y_train, y_test = train_test_split(X, y, test_size=0.3, random_state=1)\n",
    "X_val, X_test, y_val, y_test = train_test_split(X_test, y_test, test_size=0.5, random_state=2020)\n",
    "print(X_train.shape)\n",
    "print(X_val.shape)\n",
    "print(X_test.shape)"
   ]
  },
  {
   "cell_type": "markdown",
   "metadata": {},
   "source": [
    "Import `RandomForestRegressor()` to do the Random Forest regression with the training set."
   ]
  },
  {
   "cell_type": "code",
   "execution_count": 28,
   "metadata": {},
   "outputs": [
    {
     "data": {
      "text/plain": [
       "RandomForestRegressor()"
      ]
     },
     "execution_count": 28,
     "metadata": {},
     "output_type": "execute_result"
    }
   ],
   "source": [
    "from sklearn.ensemble import RandomForestRegressor\n",
    "rf = RandomForestRegressor(n_estimators=100)\n",
    "rf.fit(X_train,y_train)"
   ]
  },
  {
   "cell_type": "markdown",
   "metadata": {},
   "source": [
    "Check the out come score with the training set."
   ]
  },
  {
   "cell_type": "code",
   "execution_count": 29,
   "metadata": {},
   "outputs": [
    {
     "data": {
      "text/plain": [
       "0.9990770959743112"
      ]
     },
     "execution_count": 29,
     "metadata": {},
     "output_type": "execute_result"
    }
   ],
   "source": [
    "rf.score(X_train, y_train)"
   ]
  },
  {
   "cell_type": "markdown",
   "metadata": {},
   "source": [
    "Check the out come score with the validation set."
   ]
  },
  {
   "cell_type": "code",
   "execution_count": 30,
   "metadata": {},
   "outputs": [
    {
     "data": {
      "text/plain": [
       "0.943133792600084"
      ]
     },
     "execution_count": 30,
     "metadata": {},
     "output_type": "execute_result"
    }
   ],
   "source": [
    "rf.score(X_val, y_val)"
   ]
  },
  {
   "cell_type": "markdown",
   "metadata": {},
   "source": [
    "### Optimise hyperparameters of the ML model\n",
    "On the development dataset there are still some hyperparameters can be tuned to optimise the performance of the model. There are two ways of using development dataset: Using predefined trainig and development set, and Cross validation.\n",
    "\n",
    "We will try both methods below to compare which one suits better for this dataset."
   ]
  },
  {
   "cell_type": "markdown",
   "metadata": {},
   "source": [
    "#### Using predefined training and development set\n",
    "First, try the predefined training and development set. Set up number of trees to tune and process of tune the number of trees. Then print the max score with the corresponding number of trees."
   ]
  },
  {
   "cell_type": "code",
   "execution_count": 31,
   "metadata": {},
   "outputs": [
    {
     "name": "stdout",
     "output_type": "stream",
     "text": [
      "max_score: 0.9472032965585095\n",
      "best_no_trees: 70\n"
     ]
    }
   ],
   "source": [
    "no_trees = [10,20,30,40,50,70,100,150,200]\n",
    "\n",
    "max_score = 0\n",
    "best_no_trees = None\n",
    "for t in no_trees:\n",
    "    m = RandomForestRegressor(n_estimators=t).fit(X_train,y_train)\n",
    "    score = m.score(X_val, y_val)\n",
    "    if score > max_score:\n",
    "        max_score = score\n",
    "        best_no_trees = t\n",
    "print(\"max_score: \" + str(max_score))\n",
    "print(\"best_no_trees: \" + str(best_no_trees))"
   ]
  },
  {
   "cell_type": "markdown",
   "metadata": {},
   "source": [
    "Redo the Random Forest regression with `n_estimators` set to be 70."
   ]
  },
  {
   "cell_type": "code",
   "execution_count": 32,
   "metadata": {},
   "outputs": [
    {
     "data": {
      "text/plain": [
       "RandomForestRegressor(n_estimators=70)"
      ]
     },
     "execution_count": 32,
     "metadata": {},
     "output_type": "execute_result"
    }
   ],
   "source": [
    "rf_final_70t = RandomForestRegressor(n_estimators=best_no_trees)\n",
    "rf_final_70t.fit(X_train, y_train)"
   ]
  },
  {
   "cell_type": "markdown",
   "metadata": {},
   "source": [
    "Check the score again under 70 trees condition."
   ]
  },
  {
   "cell_type": "code",
   "execution_count": 33,
   "metadata": {},
   "outputs": [
    {
     "name": "stdout",
     "output_type": "stream",
     "text": [
      "The score on the training set:\n",
      "0.9992742600309761\n",
      "The score on the validation set:\n",
      "0.9495703531480526\n"
     ]
    }
   ],
   "source": [
    "print('The score on the training set:')\n",
    "print(rf_final_70t.score(X_train, y_train))\n",
    "print('The score on the validation set:')\n",
    "print(rf_final_70t.score(X_val, y_val))"
   ]
  },
  {
   "cell_type": "markdown",
   "metadata": {},
   "source": [
    "#### Cross-validation\n",
    "Use `model_selection.GridSearchCV()` from `sklearn` packages to run the regression with a list of number of trees. Finally check the best parameter value and the best score under this value."
   ]
  },
  {
   "cell_type": "code",
   "execution_count": 34,
   "metadata": {},
   "outputs": [
    {
     "name": "stdout",
     "output_type": "stream",
     "text": [
      "The best parameter value is: \n",
      "{'n_estimators': 200}\n",
      "The best score is: \n",
      "0.9910230940903839\n"
     ]
    }
   ],
   "source": [
    "from sklearn import model_selection\n",
    "\n",
    "# values of n_estimators\n",
    "parameters = {'n_estimators':[10,20,30,40,50,70,100,150,200]}\n",
    "rf = RandomForestRegressor()\n",
    "\n",
    "clf = model_selection.GridSearchCV(rf, parameters)\n",
    "\n",
    "clf.fit(X_train, y_train)\n",
    "cvtree = clf.best_params_\n",
    "# we can query the best parameter value and its accuracy score\n",
    "print (\"The best parameter value is: \")\n",
    "print (clf.best_params_)\n",
    "print (\"The best score is: \")\n",
    "print (clf.best_score_)"
   ]
  },
  {
   "cell_type": "markdown",
   "metadata": {},
   "source": [
    "Plot the Validation curve of the training and validation scores to find out whether the model is overfitting or underfitting."
   ]
  },
  {
   "cell_type": "code",
   "execution_count": 35,
   "metadata": {},
   "outputs": [
    {
     "data": {
      "image/png": "[encoded data removed]",
      "text/plain": [
       "<Figure size 432x288 with 1 Axes>"
      ]
     },
     "metadata": {
      "needs_background": "light"
     },
     "output_type": "display_data"
    }
   ],
   "source": [
    "from sklearn.model_selection import validation_curve\n",
    "import matplotlib.pyplot as plt\n",
    "\n",
    "n_estimators_range = [10,20,30,40,50,70,100,150,200]\n",
    "\n",
    "train_scores, valid_scores = validation_curve(estimator=RandomForestRegressor(), \n",
    "                                              X=X_train, y=y_train, \n",
    "                                              param_name=\"n_estimators\",\n",
    "                                              param_range=n_estimators_range,\n",
    "                                              cv=5)\n",
    "train_scores_mean = np.mean(train_scores, axis=1)\n",
    "train_scores_std = np.std(train_scores, axis=1)\n",
    "valid_scores_mean = np.mean(valid_scores, axis=1)\n",
    "valid_scores_std = np.std(valid_scores, axis=1)\n",
    "\n",
    "plt.title(\"Validation Curve with RF\")\n",
    "plt.xlabel(r\"number of trees\")\n",
    "plt.ylabel(\"Score\")\n",
    "plt.ylim(0.965, 1.01)\n",
    "lw = 2\n",
    "plt.semilogx(n_estimators_range, train_scores_mean, label=\"Training score\",\n",
    "             color=\"darkorange\", lw=lw)\n",
    "plt.fill_between(n_estimators_range, train_scores_mean - train_scores_std,\n",
    "                 train_scores_mean + train_scores_std, alpha=0.2,\n",
    "                 color=\"darkorange\", lw=lw)\n",
    "plt.semilogx(n_estimators_range, valid_scores_mean, label=\"Cross-validation score\",\n",
    "             color=\"navy\", lw=lw)\n",
    "plt.fill_between(n_estimators_range, valid_scores_mean - valid_scores_std,\n",
    "                 valid_scores_mean + valid_scores_std, alpha=0.2,\n",
    "                 color=\"navy\", lw=lw)\n",
    "plt.legend(loc=\"best\")\n",
    "plt.show()"
   ]
  },
  {
   "cell_type": "markdown",
   "metadata": {},
   "source": [
    "Run the regression under the optimising choice by cross validation."
   ]
  },
  {
   "cell_type": "code",
   "execution_count": 36,
   "metadata": {},
   "outputs": [
    {
     "data": {
      "text/plain": [
       "RandomForestRegressor()"
      ]
     },
     "execution_count": 36,
     "metadata": {},
     "output_type": "execute_result"
    }
   ],
   "source": [
    "rf_final_10t = RandomForestRegressor(n_estimators=100)\n",
    "rf_final_10t.fit(X_train, y_train)"
   ]
  },
  {
   "cell_type": "markdown",
   "metadata": {},
   "source": [
    "Compare the result of 2 methods."
   ]
  },
  {
   "cell_type": "code",
   "execution_count": 37,
   "metadata": {},
   "outputs": [
    {
     "name": "stdout",
     "output_type": "stream",
     "text": [
      "0.9887816320722881\n",
      "0.9899800843617006\n"
     ]
    }
   ],
   "source": [
    "print(rf_final_70t.score(X_test, y_test))\n",
    "print(rf_final_10t.score(X_test, y_test))"
   ]
  },
  {
   "cell_type": "code",
   "execution_count": 38,
   "metadata": {},
   "outputs": [
    {
     "data": {
      "text/plain": [
       "array([173747.41, 150861.72,  64754.42, 213751.59, 111185.26, 207275.25,\n",
       "       208776.1 , 153313.7 , 208420.23, 215733.56, 195554.59, 127559.17,\n",
       "       215876.6 , 198978.8 , 164802.11, 173776.18, 205228.51])"
      ]
     },
     "execution_count": 38,
     "metadata": {},
     "output_type": "execute_result"
    }
   ],
   "source": [
    "rf_final_10t.predict(X_test)"
   ]
  },
  {
   "cell_type": "markdown",
   "metadata": {},
   "source": [
    "***\n",
    "<a id=\"ID_Results\"></a>\n",
    "| [1.0 Introduciton](#ID_intr) | [2.0 Lit. review](#ID_lit) | [3.0 Data Presentation](#ID_Data) | [4.0 Methodology](#ID_Method) | [5.0 Results](#ID_Results) | [6.0 Discussion](#ID_Discussion) | [7.0 Conclusion](#ID_Conclusion) | [Bibliography](#ID_Biblio) | [Appendix](#ID_Appendix) |\n",
    "\n",
    "## 5.0 | Results\n",
    "Compare the stepwise regression with the VIF and Lasso regression methods, the VIF has the least degree of fit which is only 3. However the Lasso regression keep 5 of the factors. All of these three methods drop the `GDP`, \"VIF\" and \"Lasso\" both drop `Real_income`. This result illustrates GDP and Real income have the most serious multicolinearity in this dataset. Besides, `GDP`, `unemployment_rate`, and `population` are not significant enough to pass the stepwise selection. \n",
    "\n",
    "After comparing the coefficients of the first three methods, it is obvious to observe that the mortgage rates has the greatest absolute value among all the factors. This result means it is the factor that makes greatest impact on the house prices. However the mortgage rates and unemployment rates are in percentage which fluctuate less than the other elements in the real life. By considering this, ignore these two rates, the number of dwellings becomes the most important factor of the house prices in the UK.\n",
    "\n",
    "Finally, after optimising the number of trees in the Random forest regression, compare the final scores of these two optmising methods. We chose the higher one, cross validation, to do the prediction of house price by the test set of independent variables. Run the code below to get the prediction result."
   ]
  },
  {
   "cell_type": "code",
   "execution_count": 39,
   "metadata": {
    "scrolled": false
   },
   "outputs": [
    {
     "name": "stdout",
     "output_type": "stream",
     "text": [
      "     population  dwelling     GDP  dwelling_stock  mortgage_rate  \\\n",
      "56     61823800     22511  480523         1870366           7.24   \n",
      "42     59950400     21684  438191         2334631           6.59   \n",
      "17     58474900     20778  367660         3309244           7.50   \n",
      "97     66435600     24172  534140         1592141           4.06   \n",
      "35     59365700     21354  418465         2706036           5.64   \n",
      "92     66040200     23950  526081         1601550           4.28   \n",
      "95     66040200     23950  531737         1601550           4.54   \n",
      "62     62260500     22694  452595         1819696           3.91   \n",
      "90     65648100     23733  520379         1612325           4.24   \n",
      "102    66796800     24414  544639         1587164           4.29   \n",
      "86     65110000     23543  512070         1643256           4.50   \n",
      "38     59636700     21513  430274         2456917           5.31   \n",
      "101    66796800     24414  541944         1587164           4.29   \n",
      "87     65110000     23543  515430         1643256           4.49   \n",
      "70     63285100     22976  468942         1725912           4.12   \n",
      "55     61319100     22288  477958         1987343           7.68   \n",
      "88     65648100     23733  516456         1612325           4.57   \n",
      "\n",
      "     unemployment_rate  Real_income  \n",
      "56                 5.2       310126  \n",
      "42                 4.7       288742  \n",
      "17                 6.3       230711  \n",
      "97                 4.0       358637  \n",
      "35                 5.1       275881  \n",
      "92                 4.6       347853  \n",
      "95                 4.4       354400  \n",
      "62                 7.8       315937  \n",
      "90                 4.8       352715  \n",
      "102                3.8       365661  \n",
      "86                 5.3       356588  \n",
      "38                 5.0       279651  \n",
      "101                3.9       367265  \n",
      "87                 5.1       351879  \n",
      "70                 8.3       312081  \n",
      "55                 5.2       311791  \n",
      "88                 5.1       352570  \n"
     ]
    },
    {
     "data": {
      "text/plain": [
       "array([173747.41, 150861.72,  64754.42, 213751.59, 111185.26, 207275.25,\n",
       "       208776.1 , 153313.7 , 208420.23, 215733.56, 195554.59, 127559.17,\n",
       "       215876.6 , 198978.8 , 164802.11, 173776.18, 205228.51])"
      ]
     },
     "execution_count": 39,
     "metadata": {},
     "output_type": "execute_result"
    }
   ],
   "source": [
    "print(X_test)\n",
    "rf_final_10t.predict(X_test)"
   ]
  },
  {
   "cell_type": "markdown",
   "metadata": {},
   "source": [
    "***\n",
    "<a id=\"ID_Discussion\"></a>\n",
    "| [1.0 Introduciton](#ID_intr) | [2.0 Lit. review](#ID_lit) | [3.0 Data Presentation](#ID_Data) | [4.0 Methodology](#ID_Method) | [5.0 Results](#ID_Results) | [6.0 Discussion](#ID_Discussion) | [7.0 Conclusion](#ID_Conclusion) | [Bibliography](#ID_Biblio) | [Appendix](#ID_Appendix) |\n",
    "\n",
    "## 6.0 | Discussion\n",
    "As the maximum columns of dropping by \"VIF\" method is 4, which are too many for the dataset. This means the correlations between variables that have been selected are too high which makes the final regression result are all close to 1 and maybe less reliable. And by looking at the Validation Curve, it can tell the variance of cross validation score is high, even the training scores do not fluctuate very much. This is caused by the volume of the dataset is too small, which also shrink the validation set. The Validation curve will perform better with greater dataset. What is more, a dataset contains non-linear variables would fit better in the Random Forest regression, and we should be careful when using this algorithm."
   ]
  },
  {
   "cell_type": "markdown",
   "metadata": {},
   "source": [
    "***\n",
    "<a id=\"ID_Conclusion\"></a>\n",
    "| [1.0 Introduciton](#ID_intr) | [2.0 Lit. review](#ID_lit) | [3.0 Data Presentation](#ID_Data) | [4.0 Methodology](#ID_Method) | [5.0 Results](#ID_Results) | [6.0 Discussion](#ID_Discussion) | [7.0 Conclusion](#ID_Conclusion) | [Bibliography](#ID_Biblio) | [Appendix](#ID_Appendix) |\n",
    "\n",
    "## 7.0 | Conclusion\n",
    "Through the several analysis above, they give out many regression models to predict house price in the UK. The determinants with positive coefficients make house price increase when they increase, and those with negative coefficients affect the house price in the opposite way. Among all the factors, mortgage rates makes the greatest impact on the model since it has the largest absolute coefficient, and the number of dwellings is the most important value that affect the real estate price. Therefore these two factors should get more attention from government and public. And they should also be considered as the most impactful variables when building a house price prediction model."
   ]
  },
  {
   "cell_type": "code",
   "execution_count": 40,
   "metadata": {},
   "outputs": [
    {
     "name": "stdout",
     "output_type": "stream",
     "text": [
      "Total run time:  34.673450231552124 seconds\n"
     ]
    }
   ],
   "source": [
    "end_time = time.time()\n",
    "run_time = end_time - start_time\n",
    "print(\"Total run time: \", run_time, \"seconds\")"
   ]
  },
  {
   "cell_type": "markdown",
   "metadata": {},
   "source": [
    "#### Word count: 2393 words"
   ]
  },
  {
   "cell_type": "markdown",
   "metadata": {},
   "source": [
    "***\n",
    "<a id=\"ID_Biblio\"></a>\n",
    "| [1.0 Introduciton](#ID_intr) | [2.0 Lit. review](#ID_lit) | [3.0 Data Presentation](#ID_Data) | [4.0 Methodology](#ID_Method) | [5.0 Results](#ID_Results) | [6.0 Discussion](#ID_Discussion) | [7.0 Conclusion](#ID_Conclusion) | [Bibliography](#ID_Biblio) | [Appendix](#ID_Appendix) |\n",
    "\n",
    "## Bibliography\n",
    "### Reference\n",
    "Case, K.E. and Shiller, R.J., 2003. Is there a bubble in the housing market?. Brookings papers on economic activity, 2003(2), pp.299-342.\n",
    "\n",
    "Poterba, J.M., Weil, D.N. and Shiller, R., 1991. House price dynamics: the role of tax policy and demography. Brookings Papers on Economic Activity, 1991(2), pp.143-203.\n",
    "\n",
    "Ministry of Housing, Communities and Local Government (MHCLG), 2018. Analysis of the determinants of house price changes.\n",
    "\n",
    "Stephanie, (2015). Multicollinearity: Definition, Causes, Examples, online available at: [here](https://www.statisticshowto.com/multicollinearity/), retrieved on May 3, 2020\n",
    "\n",
    "### Data resource\n",
    "[nationwide-house price](https://www.nationwide.co.uk/about/house-price-index/download-data)\n",
    "[Gov.uk-dwelling stock](https://www.gov.uk/government/statistical-data-sets/live-tables-on-dwelling-stock-including-vacants)\n",
    "[Gov.uk-dwelling](https://www.gov.uk/government/statistical-data-sets/live-tables-on-house-building)\n",
    "[London Data store-population](https://data.london.gov.uk/dataset/land-area-and-population-density-ward-and-borough)\n",
    "[Bank of England-mortgage rates](https://www.bankofengland.co.uk/monetary-policy/the-interest-rate-bank-rate)\n",
    "[ONS-GDP/unemployment rate/Real income](https://www.ons.gov.uk/)"
   ]
  },
  {
   "cell_type": "markdown",
   "metadata": {},
   "source": [
    "***\n",
    "<a id=\"ID_Appendix\"></a>\n",
    "| [1.0 Introduciton](#ID_intr) | [2.0 Lit. review](#ID_lit) | [3.0 Data Presentation](#ID_Data) | [4.0 Methodology](#ID_Method) | [5.0 Results](#ID_Results) | [6.0 Discussion](#ID_Discussion) | [7.0 Conclusion](#ID_Conclusion) | [Bibliography](#ID_Biblio) | [Appendix](#ID_Appendix) |\n",
    "\n",
    "## Appendix"
   ]
  },
  {
   "cell_type": "markdown",
   "metadata": {},
   "source": [
    "***\n",
    "#### About this document\n",
    "_This is the assignment for the UCL CASA module Data Science for Spatial Systems (CASA0006) <br>This is a self-contained Jupyter notebook with structure introduction, discussion, and embedded code and bibliography._\n",
    "<br>\n",
    "**Code is hosted [here](https://github.com/TTonsss/DSSS/blob/main/assessment.ipynb)**<br>\n",
    "**Data is available [here](https://github.com/TTonsss/DSSS/blob/main/data.csv)**\n",
    "***"
   ]
  }
 ],
 "metadata": {
  "kernelspec": {
   "display_name": "Python 3",
   "language": "python",
   "name": "python3"
  },
  "language_info": {
   "codemirror_mode": {
    "name": "ipython",
    "version": 3
   },
   "file_extension": ".py",
   "mimetype": "text/x-python",
   "name": "python",
   "nbconvert_exporter": "python",
   "pygments_lexer": "ipython3",
   "version": "3.8.5"
  }
 },
 "nbformat": 4,
 "nbformat_minor": 4
}
